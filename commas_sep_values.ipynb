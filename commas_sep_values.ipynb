{
 "cells": [
  {
   "cell_type": "code",
   "execution_count": 1,
   "id": "e50e415b-9274-43f4-96ad-7715b8ef4a9c",
   "metadata": {},
   "outputs": [],
   "source": [
    "with open('accounts.txt', mode = 'w') as accounts:\n",
    "    accounts.write('100 Jones 24.98\\n')\n",
    "    accounts.write('200 Doe 345.67\\n')\n",
    "    accounts.write('300 White 0.00\\n')\n",
    "    accounts.write('400 Stones -42.16\\n')\n",
    "    accounts.write('500 Rich 224.62\\n')"
   ]
  },
  {
   "cell_type": "code",
   "execution_count": 4,
   "id": "b3003288-f2a3-47c2-a6d6-8444fe422c98",
   "metadata": {},
   "outputs": [
    {
     "name": "stdout",
     "output_type": "stream",
     "text": [
      "Account   Name         Balance\n",
      "100       Jones          24.98\n",
      "200       Doe           345.67\n",
      "300       White           0.00\n",
      "400       Stones        -42.16\n",
      "500       Rich          224.62\n"
     ]
    }
   ],
   "source": [
    "with open('accounts.txt', mode='r') as accounts:\n",
    "    print(f'{\"Account\":<10}{\"Name\":<10}{\"Balance\":>10}')\n",
    "    for record in accounts:\n",
    "        account, name, balance = record.split()\n",
    "        print(f'{account:<10}{name:<10}{balance:>10}')"
   ]
  },
  {
   "cell_type": "markdown",
   "id": "9caffd1d-efc4-46d9-a460-02f250a1bee8",
   "metadata": {},
   "source": [
    "UPDATING TXT FILES"
   ]
  },
  {
   "cell_type": "code",
   "execution_count": 49,
   "id": "2b701109-92b3-4c94-883f-cddaa70a8d0f",
   "metadata": {},
   "outputs": [],
   "source": [
    "accounts = open('accounts.txt', 'r')\n",
    "temp_files = open('temp_files.txt', 'w')"
   ]
  },
  {
   "cell_type": "code",
   "execution_count": 50,
   "id": "54c81e47-cbf8-4a0a-baad-e7c49b2ca590",
   "metadata": {},
   "outputs": [],
   "source": [
    "with accounts, temp_files:\n",
    "    for record in accounts:\n",
    "        account, name, balance = record.split()\n",
    "        if account != '300':\n",
    "            temp_files.write(record)\n",
    "        else:\n",
    "            new_record = ' '.join([account, 'williams', balance])\n",
    "            temp_files.write(new_record + '\\n')\n",
    "    \n",
    "temp_files.close()"
   ]
  },
  {
   "cell_type": "code",
   "execution_count": 51,
   "id": "c2e96844-ec56-43f6-aa63-71164ade4705",
   "metadata": {},
   "outputs": [
    {
     "name": "stdout",
     "output_type": "stream",
     "text": [
      "Account   Name         Balance\n",
      "100       Jones          24.98\n",
      "200       Doe           345.67\n",
      "300       williams        0.00\n",
      "400       Stones        -42.16\n",
      "500       Rich          224.62\n"
     ]
    }
   ],
   "source": [
    "with open('temp_files.txt', mode='r') as temps:\n",
    "    print(f'{\"Account\":<10}{\"Name\":<10}{\"Balance\":>10}')\n",
    "    # print('i')\n",
    "    for record in temps:\n",
    "        account, name, balance = record.split()\n",
    "        print(f'{account:<10}{name:<10}{balance:>10}')"
   ]
  },
  {
   "cell_type": "code",
   "execution_count": 60,
   "id": "cf914082-7d8d-466a-9347-360b19227c86",
   "metadata": {},
   "outputs": [],
   "source": [
    "import os"
   ]
  },
  {
   "cell_type": "code",
   "execution_count": 61,
   "id": "c3c4790c-fd8a-4c3a-845d-67cc64f13994",
   "metadata": {},
   "outputs": [],
   "source": [
    "os.remove('accounts.txt')"
   ]
  },
  {
   "cell_type": "code",
   "execution_count": 62,
   "id": "6f3104d1-251b-47d1-8182-3e6361dc7aec",
   "metadata": {},
   "outputs": [
    {
     "ename": "FileNotFoundError",
     "evalue": "[Errno 2] No such file or directory: 'temp_files.txt' -> 'accounts.txt'",
     "output_type": "error",
     "traceback": [
      "\u001b[31m---------------------------------------------------------------------------\u001b[39m",
      "\u001b[31mFileNotFoundError\u001b[39m                         Traceback (most recent call last)",
      "\u001b[36mCell\u001b[39m\u001b[36m \u001b[39m\u001b[32mIn[62]\u001b[39m\u001b[32m, line 1\u001b[39m\n\u001b[32m----> \u001b[39m\u001b[32m1\u001b[39m \u001b[43mos\u001b[49m\u001b[43m.\u001b[49m\u001b[43mrename\u001b[49m\u001b[43m(\u001b[49m\u001b[33;43m'\u001b[39;49m\u001b[33;43mtemp_files.txt\u001b[39;49m\u001b[33;43m'\u001b[39;49m\u001b[43m,\u001b[49m\u001b[33;43m'\u001b[39;49m\u001b[33;43maccounts.txt\u001b[39;49m\u001b[33;43m'\u001b[39;49m\u001b[43m)\u001b[49m\n",
      "\u001b[31mFileNotFoundError\u001b[39m: [Errno 2] No such file or directory: 'temp_files.txt' -> 'accounts.txt'"
     ]
    }
   ],
   "source": [
    "os.rename('temp_files.txt','accounts.txt')"
   ]
  },
  {
   "cell_type": "code",
   "execution_count": 65,
   "id": "b60adef1-f905-43f2-a8a7-ceae554aaf1f",
   "metadata": {},
   "outputs": [],
   "source": [
    "with open('yoyo.txt', mode = 'w') as yoyo:\n",
    "    yoyo.write('praj 9898 tim\\n')\n",
    "    yoyo.write('sam 9191 tom\\n')\n",
    "    yoyo.write('sin 9696 tam\\n')"
   ]
  },
  {
   "cell_type": "code",
   "execution_count": 81,
   "id": "d0d3d8cf-4ce8-42f1-bfff-72e152468b69",
   "metadata": {},
   "outputs": [
    {
     "name": "stdout",
     "output_type": "stream",
     "text": [
      "Name      Code       Nick_Name\n",
      "praj      9898             tim\n",
      "sam       9191             tom\n",
      "sin       9696             tam\n"
     ]
    }
   ],
   "source": [
    "with open('yoyo.txt', mode = 'r') as yoyo:\n",
    "    print(f'{\"Name\":<10}{\"Code\":<10}{\"Nick_Name\":>10}')\n",
    "    for record in yoyo:\n",
    "        name, code, nick_name = record.split()\n",
    "        print(f'{name:<10}{code:<10}{nick_name:>10}')\n",
    "        \n"
   ]
  },
  {
   "cell_type": "code",
   "execution_count": 96,
   "id": "93f5db58-0b15-4282-850d-185eff293a41",
   "metadata": {},
   "outputs": [],
   "source": [
    "chima = open('yoyo.txt', 'r')\n",
    "yepp = open('yepp.txt', 'w')"
   ]
  },
  {
   "cell_type": "code",
   "execution_count": 97,
   "id": "c805e486-4b02-4cd3-a95c-8a5b8a045c13",
   "metadata": {},
   "outputs": [],
   "source": [
    "with chima,yepp:\n",
    "    for record in chima:\n",
    "        name, code, nick_name = record.split()\n",
    "        if name == \"sam\":\n",
    "            new_record = ' '.join([name] + ['SSS'] + [nick_name] + ['\\n'])\n",
    "            yepp.write(new_record)\n",
    "        else:\n",
    "            yepp.write(record)\n",
    "            \n",
    "        "
   ]
  },
  {
   "cell_type": "code",
   "execution_count": 98,
   "id": "7e850766-8c82-49fb-8040-cc30d0b1e78d",
   "metadata": {},
   "outputs": [
    {
     "name": "stdout",
     "output_type": "stream",
     "text": [
      "Name      Code       Nick_Name\n",
      "praj      9898             tim\n",
      "sam       SSS              tom\n",
      "sin       9696             tam\n"
     ]
    }
   ],
   "source": [
    "with open('yepp.txt', mode = 'r') as yepp:\n",
    "    print(f'{\"Name\":<10}{\"Code\":<10}{\"Nick_Name\":>10}')\n",
    "    for record in yepp:\n",
    "        name, code, nick_name = record.split()\n",
    "        print(f'{name:<10}{code:<10}{nick_name:>10}')"
   ]
  },
  {
   "cell_type": "code",
   "execution_count": 99,
   "id": "d7c9c60b-9ca5-45aa-90b3-76348609390b",
   "metadata": {},
   "outputs": [],
   "source": [
    "os.remove('yoy.txt')"
   ]
  },
  {
   "cell_type": "code",
   "execution_count": 101,
   "id": "76adc000-6192-4db2-8408-8762a5d62f19",
   "metadata": {},
   "outputs": [],
   "source": [
    "os.rename('yepp.txt','yoyo.txt')"
   ]
  },
  {
   "cell_type": "markdown",
   "id": "e4a2b29e-f8f1-46c3-bef8-92052d91e2a4",
   "metadata": {},
   "source": [
    "_______________SERIALIZATION WITH JSON____________________"
   ]
  },
  {
   "cell_type": "code",
   "execution_count": 109,
   "id": "0c14e721-0244-437a-ba1d-ac3abbefcae8",
   "metadata": {},
   "outputs": [],
   "source": [
    "accounts_dict = {\n",
    "    \"accounts\": [\n",
    "        {\"account\": 1001, \"name\": \"Alice\",   \"balance\": 2500},\n",
    "        {\"account\": 1002, \"name\": \"Bob\",     \"balance\": 4200},\n",
    "        {\"account\": 1003, \"name\": \"Charlie\", \"balance\": 1800},\n",
    "        {\"account\": 1004, \"name\": \"Diana\",   \"balance\": 3200},\n",
    "        {\"account\": 1005, \"name\": \"Ethan\",   \"balance\": 5000}\n",
    "    ]\n",
    "}"
   ]
  },
  {
   "cell_type": "code",
   "execution_count": 110,
   "id": "ccc8004f-202e-4450-b5e6-fcd2af6fe949",
   "metadata": {},
   "outputs": [],
   "source": [
    "import json"
   ]
  },
  {
   "cell_type": "code",
   "execution_count": 111,
   "id": "d1e03bd3-dc91-4510-bf10-63a23e15fefe",
   "metadata": {},
   "outputs": [],
   "source": [
    "with open('accounts.json', 'w') as account:\n",
    "    json.dump(accounts_dict, account)"
   ]
  },
  {
   "cell_type": "code",
   "execution_count": null,
   "id": "7b3f0035-5b41-49dd-ab9b-739a0c51a700",
   "metadata": {},
   "outputs": [],
   "source": []
  }
 ],
 "metadata": {
  "kernelspec": {
   "display_name": "Python 3 (ipykernel)",
   "language": "python",
   "name": "python3"
  },
  "language_info": {
   "codemirror_mode": {
    "name": "ipython",
    "version": 3
   },
   "file_extension": ".py",
   "mimetype": "text/x-python",
   "name": "python",
   "nbconvert_exporter": "python",
   "pygments_lexer": "ipython3",
   "version": "3.13.7"
  }
 },
 "nbformat": 4,
 "nbformat_minor": 5
}
