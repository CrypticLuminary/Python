{
 "cells": [
  {
   "cell_type": "code",
   "execution_count": 1,
   "id": "2a1a9aef-655d-486b-894e-81e16c9dc637",
   "metadata": {},
   "outputs": [
    {
     "ename": "SyntaxError",
     "evalue": "invalid syntax (2312529652.py, line 1)",
     "output_type": "error",
     "traceback": [
      "  \u001b[36mCell\u001b[39m\u001b[36m \u001b[39m\u001b[32mIn[1]\u001b[39m\u001b[32m, line 1\u001b[39m\n\u001b[31m    \u001b[39m\u001b[31mf{'17.489:.2f'}\u001b[39m\n     ^\n\u001b[31mSyntaxError\u001b[39m\u001b[31m:\u001b[39m invalid syntax\n"
     ]
    }
   ],
   "source": [
    "f{'17.489:.2f'}"
   ]
  },
  {
   "cell_type": "code",
   "execution_count": 2,
   "id": "9e453f09-9f7f-44fc-a916-5aed4fac928d",
   "metadata": {},
   "outputs": [
    {
     "data": {
      "text/plain": [
       "'17.49'"
      ]
     },
     "execution_count": 2,
     "metadata": {},
     "output_type": "execute_result"
    }
   ],
   "source": [
    "f'{17.489:.2f}'"
   ]
  },
  {
   "cell_type": "code",
   "execution_count": 3,
   "id": "68d0ee40-610b-470f-9dc7-40b003d0e19a",
   "metadata": {},
   "outputs": [
    {
     "data": {
      "text/plain": [
       "'10'"
      ]
     },
     "execution_count": 3,
     "metadata": {},
     "output_type": "execute_result"
    }
   ],
   "source": [
    "f'{10:d}'"
   ]
  },
  {
   "cell_type": "code",
   "execution_count": 4,
   "id": "4d4e4e4e-6f8e-4913-8014-8f2543bcdfe8",
   "metadata": {},
   "outputs": [
    {
     "data": {
      "text/plain": [
       "'1010'"
      ]
     },
     "execution_count": 4,
     "metadata": {},
     "output_type": "execute_result"
    }
   ],
   "source": [
    "f'{10:b}'"
   ]
  },
  {
   "cell_type": "code",
   "execution_count": 5,
   "id": "bb54b9db-da02-41ed-b31f-34d6efcd498c",
   "metadata": {},
   "outputs": [
    {
     "data": {
      "text/plain": [
       "'a'"
      ]
     },
     "execution_count": 5,
     "metadata": {},
     "output_type": "execute_result"
    }
   ],
   "source": [
    "f'{10:x}'"
   ]
  },
  {
   "cell_type": "code",
   "execution_count": 7,
   "id": "3505943e-d3f0-4d66-9011-30f61f1aab03",
   "metadata": {},
   "outputs": [
    {
     "data": {
      "text/plain": [
       "'A'"
      ]
     },
     "execution_count": 7,
     "metadata": {},
     "output_type": "execute_result"
    }
   ],
   "source": [
    "f'{10:X}'"
   ]
  },
  {
   "cell_type": "code",
   "execution_count": 12,
   "id": "24ef9897-c20f-4197-994c-1a6b338a2086",
   "metadata": {},
   "outputs": [
    {
     "data": {
      "text/plain": [
       "'A a'"
      ]
     },
     "execution_count": 12,
     "metadata": {},
     "output_type": "execute_result"
    }
   ],
   "source": [
    "f'{65:c} {97:c}'"
   ]
  },
  {
   "cell_type": "code",
   "execution_count": 15,
   "id": "da101e49-e2cb-4831-93f5-909a5301415a",
   "metadata": {},
   "outputs": [],
   "source": [
    "from decimal import Decimal"
   ]
  },
  {
   "cell_type": "code",
   "execution_count": 16,
   "id": "6959fb66-6b30-4968-82f3-f8ce0afb6c7b",
   "metadata": {},
   "outputs": [
    {
     "data": {
      "text/plain": [
       "'100000000000000000000000000000000000.000'"
      ]
     },
     "execution_count": 16,
     "metadata": {},
     "output_type": "execute_result"
    }
   ],
   "source": [
    "f'{Decimal(\"100000000000000000000000000000000000.0\"):.3f}'"
   ]
  },
  {
   "cell_type": "code",
   "execution_count": 18,
   "id": "c4a9f21e-3d25-42e2-a7bb-f0c9c6b52e2f",
   "metadata": {},
   "outputs": [
    {
     "data": {
      "text/plain": [
       "'1000.000'"
      ]
     },
     "execution_count": 18,
     "metadata": {},
     "output_type": "execute_result"
    }
   ],
   "source": [
    "f'{Decimal(1000):.3f}'"
   ]
  },
  {
   "cell_type": "code",
   "execution_count": 19,
   "id": "d4a7229f-cc46-4ecc-a67f-5ffbdf497cb4",
   "metadata": {},
   "outputs": [
    {
     "data": {
      "text/plain": [
       "'1.000e+3'"
      ]
     },
     "execution_count": 19,
     "metadata": {},
     "output_type": "execute_result"
    }
   ],
   "source": [
    "f'{Decimal(1000):.3e}'"
   ]
  },
  {
   "cell_type": "code",
   "execution_count": 20,
   "id": "a67404a5-58f2-4538-9f0b-77fdf54f339c",
   "metadata": {},
   "outputs": [
    {
     "data": {
      "text/plain": [
       "'[        27]'"
      ]
     },
     "execution_count": 20,
     "metadata": {},
     "output_type": "execute_result"
    }
   ],
   "source": [
    "f'[{27:10d}]'"
   ]
  },
  {
   "cell_type": "code",
   "execution_count": 21,
   "id": "c80e4f31-88b2-4c86-9cd0-091af8fbaf2e",
   "metadata": {},
   "outputs": [
    {
     "data": {
      "text/plain": [
       "'[27]'"
      ]
     },
     "execution_count": 21,
     "metadata": {},
     "output_type": "execute_result"
    }
   ],
   "source": [
    "f'[{27:2d}]'"
   ]
  },
  {
   "cell_type": "code",
   "execution_count": 22,
   "id": "8c37d0ec-fc38-4683-8396-c78c8cd44d11",
   "metadata": {},
   "outputs": [
    {
     "data": {
      "text/plain": [
       "'[27]'"
      ]
     },
     "execution_count": 22,
     "metadata": {},
     "output_type": "execute_result"
    }
   ],
   "source": [
    "f'[{27:1d}]'"
   ]
  },
  {
   "cell_type": "code",
   "execution_count": 23,
   "id": "462f562f-36bc-40a0-95f9-eec59bddd30b",
   "metadata": {},
   "outputs": [
    {
     "data": {
      "text/plain": [
       "'[  3.500000]'"
      ]
     },
     "execution_count": 23,
     "metadata": {},
     "output_type": "execute_result"
    }
   ],
   "source": [
    "f'[{3.5:10f}]'"
   ]
  },
  {
   "cell_type": "code",
   "execution_count": 24,
   "id": "cf09c718-19df-4d02-bb97-d25e2c4bba51",
   "metadata": {},
   "outputs": [
    {
     "data": {
      "text/plain": [
       "'[hello     ]'"
      ]
     },
     "execution_count": 24,
     "metadata": {},
     "output_type": "execute_result"
    }
   ],
   "source": [
    "f'[{\"hello\":10}]'"
   ]
  },
  {
   "cell_type": "code",
   "execution_count": 25,
   "id": "5d5d4ebe-472a-4462-81a1-03be4aa2f4a2",
   "metadata": {},
   "outputs": [
    {
     "data": {
      "text/plain": [
       "'[27             ]'"
      ]
     },
     "execution_count": 25,
     "metadata": {},
     "output_type": "execute_result"
    }
   ],
   "source": [
    "f'[{27:<15d}]'"
   ]
  },
  {
   "cell_type": "code",
   "execution_count": 26,
   "id": "c6316fa5-dbfe-48b8-ba19-e0cba6e6ee74",
   "metadata": {},
   "outputs": [
    {
     "data": {
      "text/plain": [
       "'[3.500000       ]'"
      ]
     },
     "execution_count": 26,
     "metadata": {},
     "output_type": "execute_result"
    }
   ],
   "source": [
    "f'[{3.5:<15f}]'"
   ]
  },
  {
   "cell_type": "code",
   "execution_count": 27,
   "id": "3b8d658f-8de0-49bd-b42a-1ffd029600ad",
   "metadata": {},
   "outputs": [
    {
     "data": {
      "text/plain": [
       "'[  27   ]'"
      ]
     },
     "execution_count": 27,
     "metadata": {},
     "output_type": "execute_result"
    }
   ],
   "source": [
    "f'[{27:^7d}]'"
   ]
  },
  {
   "cell_type": "code",
   "execution_count": 30,
   "id": "7579431e-1a5b-4239-b1b1-7c3b81919054",
   "metadata": {},
   "outputs": [
    {
     "data": {
      "text/plain": [
       "'[           27            ]'"
      ]
     },
     "execution_count": 30,
     "metadata": {},
     "output_type": "execute_result"
    }
   ],
   "source": [
    "f'[{27:^25d}]'"
   ]
  },
  {
   "cell_type": "code",
   "execution_count": 31,
   "id": "1f76c967-e9b1-4a94-8a1a-440610740501",
   "metadata": {},
   "outputs": [
    {
     "data": {
      "text/plain": [
       "'[              27              ]'"
      ]
     },
     "execution_count": 31,
     "metadata": {},
     "output_type": "execute_result"
    }
   ],
   "source": [
    "f'[{27:^30d}]'"
   ]
  },
  {
   "cell_type": "raw",
   "id": "85f7acd5-577e-4e8b-b988-aecbfa4a9b21",
   "metadata": {},
   "source": [
    "f'[{27:+10d}]'"
   ]
  },
  {
   "cell_type": "code",
   "execution_count": 33,
   "id": "53406229-546f-46e7-ac49-6f97fd101f89",
   "metadata": {},
   "outputs": [
    {
     "data": {
      "text/plain": [
       "'[        27]'"
      ]
     },
     "execution_count": 33,
     "metadata": {},
     "output_type": "execute_result"
    }
   ],
   "source": [
    "f'[{27:-10d}]'"
   ]
  },
  {
   "cell_type": "code",
   "execution_count": 34,
   "id": "1c44dba9-03b4-4986-bb8d-63a5ddafcaf4",
   "metadata": {},
   "outputs": [
    {
     "data": {
      "text/plain": [
       "'[       +27]'"
      ]
     },
     "execution_count": 34,
     "metadata": {},
     "output_type": "execute_result"
    }
   ],
   "source": [
    "f'[{27:+10}]'"
   ]
  },
  {
   "cell_type": "code",
   "execution_count": 41,
   "id": "b421dfce-c051-4f30-a0c3-f32f41ef4375",
   "metadata": {},
   "outputs": [
    {
     "name": "stdout",
     "output_type": "stream",
     "text": [
      "27\n",
      " 27\n",
      "-27\n"
     ]
    }
   ],
   "source": [
    "print(f'{27:}\\n{27: }\\n{-27: }')"
   ]
  },
  {
   "cell_type": "code",
   "execution_count": 47,
   "id": "c7ab7144-7938-4521-91b0-8c38481f79d9",
   "metadata": {},
   "outputs": [
    {
     "data": {
      "text/plain": [
       "'12,345,678'"
      ]
     },
     "execution_count": 47,
     "metadata": {},
     "output_type": "execute_result"
    }
   ],
   "source": [
    "f'{12345678:,d}'"
   ]
  },
  {
   "cell_type": "code",
   "execution_count": 48,
   "id": "9ce24c1b-6f85-4341-b99e-9cc1269935eb",
   "metadata": {},
   "outputs": [
    {
     "data": {
      "text/plain": [
       "'12,345.70'"
      ]
     },
     "execution_count": 48,
     "metadata": {},
     "output_type": "execute_result"
    }
   ],
   "source": [
    "f'{12345.7:,.2f}'"
   ]
  },
  {
   "cell_type": "code",
   "execution_count": 54,
   "id": "74a12f11-8a7c-4c5c-b7c0-877ab0b34e78",
   "metadata": {},
   "outputs": [
    {
     "name": "stdout",
     "output_type": "stream",
     "text": [
      "+10,204.47\n",
      " -3,210.96\n"
     ]
    }
   ],
   "source": [
    "print(f'{10204.473:+10,.2f}\\n{-3210.9571:+10,.2f}')"
   ]
  },
  {
   "cell_type": "code",
   "execution_count": 53,
   "id": "fe269e59-eca5-4648-99d8-36ad6294a8a4",
   "metadata": {},
   "outputs": [
    {
     "data": {
      "text/plain": [
       "'17.49'"
      ]
     },
     "execution_count": 53,
     "metadata": {},
     "output_type": "execute_result"
    }
   ],
   "source": [
    "'{:.2f}'.format(17.489)"
   ]
  },
  {
   "cell_type": "code",
   "execution_count": 58,
   "id": "c8d0748a-e807-47e8-915d-4b4acdb45cdc",
   "metadata": {},
   "outputs": [
    {
     "data": {
      "text/plain": [
       "'amanda cyan'"
      ]
     },
     "execution_count": 58,
     "metadata": {},
     "output_type": "execute_result"
    }
   ],
   "source": [
    "'{} {}'.format('amanda', 'cyan')"
   ]
  },
  {
   "cell_type": "code",
   "execution_count": 60,
   "id": "a106062f-7bfc-4b45-a87d-8a514fb7f8f6",
   "metadata": {},
   "outputs": [
    {
     "data": {
      "text/plain": [
       "'Happy Happy Bitrhday'"
      ]
     },
     "execution_count": 60,
     "metadata": {},
     "output_type": "execute_result"
    }
   ],
   "source": [
    "'{0} {0} {1}'.format('Happy', 'Bitrhday')"
   ]
  },
  {
   "cell_type": "code",
   "execution_count": 63,
   "id": "9e7dc23e-7e20-4916-b07f-fe776d168c61",
   "metadata": {},
   "outputs": [
    {
     "data": {
      "text/plain": [
       "'Prajwal Sitoula'"
      ]
     },
     "execution_count": 63,
     "metadata": {},
     "output_type": "execute_result"
    }
   ],
   "source": [
    "'{first} {last}'.format(first = 'Prajwal', last = 'Sitoula')"
   ]
  },
  {
   "cell_type": "code",
   "execution_count": 65,
   "id": "0c626a92-c689-455c-ab92-c924ab09c013",
   "metadata": {},
   "outputs": [
    {
     "name": "stdout",
     "output_type": "stream",
     "text": [
      ": - )\n"
     ]
    }
   ],
   "source": [
    "print('{:c} {:c} {:c}'.format(58, 45, 41))"
   ]
  },
  {
   "cell_type": "code",
   "execution_count": 72,
   "id": "c0b83a8e-a094-4484-b4cf-c036fcac811a",
   "metadata": {},
   "outputs": [
    {
     "name": "stdout",
     "output_type": "stream",
     "text": [
      "[    Amanda]\n",
      "[  Amanda  ]\n",
      "[Amanda    ]\n"
     ]
    }
   ],
   "source": [
    "print('[{0:>10}]\\n[{0:^10}]\\n[{0:<10}]'.format('Amanda'))"
   ]
  },
  {
   "cell_type": "code",
   "execution_count": 73,
   "id": "f243e135-badd-46f1-8015-ce4674bf89cb",
   "metadata": {},
   "outputs": [],
   "source": [
    "s1 = 'happy'\n"
   ]
  },
  {
   "cell_type": "code",
   "execution_count": 74,
   "id": "1e08753d-0c5b-4135-903c-5d7081684f1a",
   "metadata": {},
   "outputs": [],
   "source": [
    "s2 = 'birthday'"
   ]
  },
  {
   "cell_type": "code",
   "execution_count": 75,
   "id": "4350682d-560d-4858-add1-cb0540faa37a",
   "metadata": {},
   "outputs": [],
   "source": [
    "s1 += ' '+s2"
   ]
  },
  {
   "cell_type": "code",
   "execution_count": 76,
   "id": "79d78c93-6290-413f-a404-c7ac89123316",
   "metadata": {},
   "outputs": [
    {
     "data": {
      "text/plain": [
       "'happy birthday'"
      ]
     },
     "execution_count": 76,
     "metadata": {},
     "output_type": "execute_result"
    }
   ],
   "source": [
    "s1"
   ]
  },
  {
   "cell_type": "code",
   "execution_count": 77,
   "id": "67c62763-a3a7-4c38-a5da-cb1cac2b0833",
   "metadata": {},
   "outputs": [],
   "source": [
    "name = 'Pam'\n",
    "name += ' '+'Balck'"
   ]
  },
  {
   "cell_type": "code",
   "execution_count": 78,
   "id": "1c0dc034-2724-438e-b5f8-06aac09d5543",
   "metadata": {},
   "outputs": [],
   "source": [
    "bar = '*'"
   ]
  },
  {
   "cell_type": "code",
   "execution_count": 79,
   "id": "a41d0f3a-90e6-43e0-8b79-298d0b8e2341",
   "metadata": {},
   "outputs": [],
   "source": [
    "bar *= len(name)"
   ]
  },
  {
   "cell_type": "code",
   "execution_count": 80,
   "id": "a4099648-55cc-40d1-bac9-95547aaeb8ce",
   "metadata": {},
   "outputs": [
    {
     "name": "stdout",
     "output_type": "stream",
     "text": [
      "*********\n",
      "Pam Balck\n",
      "*********\n"
     ]
    }
   ],
   "source": [
    "print(f'{bar}\\n{name}\\n{bar}')"
   ]
  },
  {
   "cell_type": "code",
   "execution_count": 81,
   "id": "e33c6507-29aa-4e69-a228-d4d2d5c0651e",
   "metadata": {},
   "outputs": [],
   "source": [
    "sentence = '\\t   \\n   THis is a test string. \\t\\n\\t '"
   ]
  },
  {
   "cell_type": "code",
   "execution_count": 82,
   "id": "cb1e26ca-353e-4aef-bdb7-a449c423fd8a",
   "metadata": {},
   "outputs": [
    {
     "data": {
      "text/plain": [
       "'THis is a test string.'"
      ]
     },
     "execution_count": 82,
     "metadata": {},
     "output_type": "execute_result"
    }
   ],
   "source": [
    "sentence.strip()"
   ]
  },
  {
   "cell_type": "code",
   "execution_count": 83,
   "id": "a612b182-6fb1-4fa6-ab5d-4fe68dee16f8",
   "metadata": {},
   "outputs": [
    {
     "data": {
      "text/plain": [
       "'THis is a test string. \\t\\n\\t '"
      ]
     },
     "execution_count": 83,
     "metadata": {},
     "output_type": "execute_result"
    }
   ],
   "source": [
    "sentence.lstrip()"
   ]
  },
  {
   "cell_type": "code",
   "execution_count": 84,
   "id": "57a52997-13c5-4824-9b40-0fb59b5c3f1d",
   "metadata": {},
   "outputs": [
    {
     "data": {
      "text/plain": [
       "'\\t   \\n   THis is a test string.'"
      ]
     },
     "execution_count": 84,
     "metadata": {},
     "output_type": "execute_result"
    }
   ],
   "source": [
    "sentence.rstrip()"
   ]
  },
  {
   "cell_type": "code",
   "execution_count": 85,
   "id": "2ca7a2e2-53f6-47be-927a-1d7496ace079",
   "metadata": {},
   "outputs": [],
   "source": [
    "name = '         margo magenta    '"
   ]
  },
  {
   "cell_type": "code",
   "execution_count": 86,
   "id": "c39d7700-252b-412f-bba5-a6583afc8620",
   "metadata": {},
   "outputs": [
    {
     "data": {
      "text/plain": [
       "'margo magenta'"
      ]
     },
     "execution_count": 86,
     "metadata": {},
     "output_type": "execute_result"
    }
   ],
   "source": [
    "name.strip()"
   ]
  },
  {
   "cell_type": "code",
   "execution_count": 87,
   "id": "63521b1f-806f-4acc-a821-8c6e79c1ad92",
   "metadata": {},
   "outputs": [
    {
     "data": {
      "text/plain": [
       "'margo magenta    '"
      ]
     },
     "execution_count": 87,
     "metadata": {},
     "output_type": "execute_result"
    }
   ],
   "source": [
    "name.lstrip()"
   ]
  },
  {
   "cell_type": "code",
   "execution_count": 88,
   "id": "f4b10a54-f4d7-4950-8035-b54e82a880f4",
   "metadata": {},
   "outputs": [
    {
     "data": {
      "text/plain": [
       "'         margo magenta'"
      ]
     },
     "execution_count": 88,
     "metadata": {},
     "output_type": "execute_result"
    }
   ],
   "source": [
    "name.rstrip()"
   ]
  },
  {
   "cell_type": "code",
   "execution_count": 90,
   "id": "f4264635-9a03-4736-bf0c-cbfea0223b9c",
   "metadata": {},
   "outputs": [
    {
     "data": {
      "text/plain": [
       "'         margo magenta    '"
      ]
     },
     "execution_count": 90,
     "metadata": {},
     "output_type": "execute_result"
    }
   ],
   "source": [
    "name.capitalize()"
   ]
  },
  {
   "cell_type": "code",
   "execution_count": 91,
   "id": "209bb817-e1fa-4a34-8be6-0b53c48a607a",
   "metadata": {},
   "outputs": [
    {
     "data": {
      "text/plain": [
       "'         Margo Magenta    '"
      ]
     },
     "execution_count": 91,
     "metadata": {},
     "output_type": "execute_result"
    }
   ],
   "source": [
    "name.title()"
   ]
  },
  {
   "cell_type": "code",
   "execution_count": 94,
   "id": "4416bf73-fe8d-46ae-afe6-8fbbe596ce9f",
   "metadata": {},
   "outputs": [
    {
     "data": {
      "text/plain": [
       "'1 ----> 2 ----> 3 ----> 4 ----> 5'"
      ]
     },
     "execution_count": 94,
     "metadata": {},
     "output_type": "execute_result"
    }
   ],
   "source": [
    "'1 2 3 4 5'.replace(' ',' ----> ')"
   ]
  },
  {
   "cell_type": "code",
   "execution_count": 95,
   "id": "3dd29d6f-9fe6-4528-85c0-5821b7c8a8d5",
   "metadata": {},
   "outputs": [],
   "source": [
    "letters = 'A, B, C, D'"
   ]
  },
  {
   "cell_type": "code",
   "execution_count": 96,
   "id": "0f57eefc-9be8-4b37-9fb9-a77b327d9745",
   "metadata": {},
   "outputs": [
    {
     "data": {
      "text/plain": [
       "['A', 'B', 'C', 'D']"
      ]
     },
     "execution_count": 96,
     "metadata": {},
     "output_type": "execute_result"
    }
   ],
   "source": [
    "letters.split(', ')"
   ]
  },
  {
   "cell_type": "code",
   "execution_count": 97,
   "id": "bafb3414-67ba-4bf5-9240-0b9a4c343c1f",
   "metadata": {},
   "outputs": [
    {
     "data": {
      "text/plain": [
       "['A', 'B', 'C, D']"
      ]
     },
     "execution_count": 97,
     "metadata": {},
     "output_type": "execute_result"
    }
   ],
   "source": [
    "letters.split(', ', 2)"
   ]
  },
  {
   "cell_type": "code",
   "execution_count": 99,
   "id": "725b69c3-fd50-431f-8333-78d462beecd8",
   "metadata": {},
   "outputs": [],
   "source": [
    "letters_list = ['A', 'B', 'C', 'D']"
   ]
  },
  {
   "cell_type": "code",
   "execution_count": 104,
   "id": "39d178b6-c151-4c97-b72b-17805189722d",
   "metadata": {},
   "outputs": [
    {
     "data": {
      "text/plain": [
       "'A, B, C, D'"
      ]
     },
     "execution_count": 104,
     "metadata": {},
     "output_type": "execute_result"
    }
   ],
   "source": [
    "', '.join(letters_list)"
   ]
  },
  {
   "cell_type": "code",
   "execution_count": 106,
   "id": "810cb2c9-a63e-4ca1-a632-c05b0b0cdbce",
   "metadata": {},
   "outputs": [
    {
     "data": {
      "text/plain": [
       "'0,1,2,3,4,5,6,7,8,9'"
      ]
     },
     "execution_count": 106,
     "metadata": {},
     "output_type": "execute_result"
    }
   ],
   "source": [
    "','.join([str(i) for i in range(10)])"
   ]
  },
  {
   "cell_type": "code",
   "execution_count": 110,
   "id": "7a0a7691-6311-4e77-93ac-a4c3027e6751",
   "metadata": {},
   "outputs": [
    {
     "data": {
      "text/plain": [
       "('Amanda', ': ', '89, 97 :92')"
      ]
     },
     "execution_count": 110,
     "metadata": {},
     "output_type": "execute_result"
    }
   ],
   "source": [
    "'Amanda: 89, 97 :92'.rpartition(': ')"
   ]
  },
  {
   "cell_type": "code",
   "execution_count": 111,
   "id": "d27b51bd-4c5e-4f26-afe2-1fdcd1850b6c",
   "metadata": {},
   "outputs": [
    {
     "data": {
      "text/plain": [
       "'white, pamela'"
      ]
     },
     "execution_count": 111,
     "metadata": {},
     "output_type": "execute_result"
    }
   ],
   "source": [
    "', '.join(reversed('pamela white'.split()))"
   ]
  },
  {
   "cell_type": "code",
   "execution_count": 112,
   "id": "cc25184e-45bc-4dbd-9fd8-6c334d81a611",
   "metadata": {},
   "outputs": [
    {
     "data": {
      "text/plain": [
       "'sitaula, prajal, is, name, my'"
      ]
     },
     "execution_count": 112,
     "metadata": {},
     "output_type": "execute_result"
    }
   ],
   "source": [
    "', '.join(reversed(' my name is prajal sitaula'.split()))"
   ]
  },
  {
   "cell_type": "code",
   "execution_count": 113,
   "id": "654adde4-0fad-4d68-8b5a-81f03a4fa5d5",
   "metadata": {},
   "outputs": [
    {
     "data": {
      "text/plain": [
       "'0 1 2 3 4 5 6 7 8 9'"
      ]
     },
     "execution_count": 113,
     "metadata": {},
     "output_type": "execute_result"
    }
   ],
   "source": [
    "' '.join([str(i) for i in range(10) ])"
   ]
  },
  {
   "cell_type": "code",
   "execution_count": 114,
   "id": "48de9190-daf2-48dd-bc25-f20382088c5b",
   "metadata": {},
   "outputs": [
    {
     "data": {
      "text/plain": [
       "[' this is a line', 'this is new line ', 'this is new line 2']"
      ]
     },
     "execution_count": 114,
     "metadata": {},
     "output_type": "execute_result"
    }
   ],
   "source": [
    "lines = \"\"\" this is a line\n",
    "this is new line \n",
    "this is new line 2\n",
    "\"\"\"\n",
    "lines.splitlines()"
   ]
  },
  {
   "cell_type": "code",
   "execution_count": 115,
   "id": "24bfa882-3d5a-4b20-b8e1-0bea0d23ee92",
   "metadata": {},
   "outputs": [
    {
     "data": {
      "text/plain": [
       "[' this is a line\\n', 'this is new line \\n', 'this is new line 2\\n']"
      ]
     },
     "execution_count": 115,
     "metadata": {},
     "output_type": "execute_result"
    }
   ],
   "source": [
    "lines = \"\"\" this is a line\n",
    "this is new line \n",
    "this is new line 2\n",
    "\"\"\"\n",
    "lines.splitlines(True)"
   ]
  },
  {
   "cell_type": "code",
   "execution_count": 117,
   "id": "d8921f93-5aa2-4d51-b475-496c25a3ba33",
   "metadata": {},
   "outputs": [
    {
     "data": {
      "text/plain": [
       "False"
      ]
     },
     "execution_count": 117,
     "metadata": {},
     "output_type": "execute_result"
    }
   ],
   "source": [
    "'-27'.isdigit()"
   ]
  },
  {
   "cell_type": "markdown",
   "id": "ab022c6f-11bd-42c2-a02a-721bc8b66997",
   "metadata": {},
   "source": [
    "'27'.isdigit()"
   ]
  },
  {
   "cell_type": "code",
   "execution_count": 118,
   "id": "452e312c-7719-4ad6-a4ce-939464a8f817",
   "metadata": {},
   "outputs": [
    {
     "data": {
      "text/plain": [
       "True"
      ]
     },
     "execution_count": 118,
     "metadata": {},
     "output_type": "execute_result"
    }
   ],
   "source": [
    "'27'.isdigit()"
   ]
  },
  {
   "cell_type": "code",
   "execution_count": 119,
   "id": "8c594087-cfe7-4f02-956a-fa0749f50f66",
   "metadata": {},
   "outputs": [
    {
     "data": {
      "text/plain": [
       "True"
      ]
     },
     "execution_count": 119,
     "metadata": {},
     "output_type": "execute_result"
    }
   ],
   "source": [
    "'A123'.isalnum()"
   ]
  },
  {
   "cell_type": "code",
   "execution_count": 120,
   "id": "a886d901-11e1-4988-a0eb-3f46b7e20ec1",
   "metadata": {},
   "outputs": [
    {
     "data": {
      "text/plain": [
       "False"
      ]
     },
     "execution_count": 120,
     "metadata": {},
     "output_type": "execute_result"
    }
   ],
   "source": [
    "'A 123'.isalnum()"
   ]
  },
  {
   "cell_type": "markdown",
   "id": "8582321c-6780-468a-8d6b-bef56b4250b7",
   "metadata": {},
   "source": [
    "___________________RAWS STRING___________________"
   ]
  },
  {
   "cell_type": "code",
   "execution_count": 121,
   "id": "adc2a3a5-d521-4073-befd-67ad48785307",
   "metadata": {},
   "outputs": [],
   "source": [
    "file_path = 'c:\\\\MyFolder\\\\MySubFolder\\\\MyFile.txt'"
   ]
  },
  {
   "cell_type": "code",
   "execution_count": 122,
   "id": "3c0b5ef8-c81f-493a-9247-f416d1e75e74",
   "metadata": {},
   "outputs": [
    {
     "data": {
      "text/plain": [
       "'c:\\\\MyFolder\\\\MySubFolder\\\\MyFile.txt'"
      ]
     },
     "execution_count": 122,
     "metadata": {},
     "output_type": "execute_result"
    }
   ],
   "source": [
    "file_path"
   ]
  },
  {
   "cell_type": "code",
   "execution_count": 123,
   "id": "4a805d89-32b9-44d9-89e4-820390ab6a4b",
   "metadata": {},
   "outputs": [],
   "source": [
    "file_path2 = file_path"
   ]
  },
  {
   "cell_type": "code",
   "execution_count": 125,
   "id": "137f7e8f-b6e5-40de-ad23-86e63aae1a09",
   "metadata": {},
   "outputs": [
    {
     "data": {
      "text/plain": [
       "'c:\\\\MyFolder\\\\MySubFolder\\\\MyFile.txt'"
      ]
     },
     "execution_count": 125,
     "metadata": {},
     "output_type": "execute_result"
    }
   ],
   "source": [
    "file_path2"
   ]
  },
  {
   "cell_type": "code",
   "execution_count": 128,
   "id": "7962db85-6771-4fe6-83ce-d62be7842b70",
   "metadata": {},
   "outputs": [],
   "source": [
    "file_path2 = r'c:\\MyFolder\\MySubFolder\\MyFile.txt'"
   ]
  },
  {
   "cell_type": "code",
   "execution_count": 129,
   "id": "07f6bdb0-c614-4c80-b1de-27eadcd140cb",
   "metadata": {},
   "outputs": [
    {
     "data": {
      "text/plain": [
       "'c:\\\\MyFolder\\\\MySubFolder\\\\MyFile.txt'"
      ]
     },
     "execution_count": 129,
     "metadata": {},
     "output_type": "execute_result"
    }
   ],
   "source": [
    "file_path2"
   ]
  },
  {
   "cell_type": "code",
   "execution_count": 134,
   "id": "831d6cf9-0f06-4dbe-8e91-000fbeb22eec",
   "metadata": {},
   "outputs": [
    {
     "data": {
      "text/plain": [
       "'\\\\\\\\\\\\\\\\hi\\\\\\\\\\\\\\\\'"
      ]
     },
     "execution_count": 134,
     "metadata": {},
     "output_type": "execute_result"
    }
   ],
   "source": [
    "r'\\\\\\\\hi\\\\\\\\'"
   ]
  },
  {
   "cell_type": "code",
   "execution_count": 135,
   "id": "881ff5f2-df8b-4035-9a32-08957bace64c",
   "metadata": {},
   "outputs": [],
   "source": [
    "import re"
   ]
  },
  {
   "cell_type": "code",
   "execution_count": 136,
   "id": "49bf2c71-c8d8-4d23-9f5c-82308f38324b",
   "metadata": {},
   "outputs": [],
   "source": [
    "pattern = '02215'"
   ]
  },
  {
   "cell_type": "code",
   "execution_count": 138,
   "id": "f2dd1cf4-d2ef-4b14-b024-ad30e4073ec2",
   "metadata": {},
   "outputs": [
    {
     "data": {
      "text/plain": [
       "'Match'"
      ]
     },
     "execution_count": 138,
     "metadata": {},
     "output_type": "execute_result"
    }
   ],
   "source": [
    "'Match' if re.fullmatch(pattern, '02215') else 'No Match'"
   ]
  },
  {
   "cell_type": "markdown",
   "id": "72890284-60ff-4ec5-a8e8-3ec413317372",
   "metadata": {},
   "source": [
    "\n",
    "'Match' if re.fullmatch(pattern, '51440') else 'No Match' "
   ]
  },
  {
   "cell_type": "code",
   "execution_count": 139,
   "id": "b80ae7dd-3307-473d-86fc-508750f56b4c",
   "metadata": {},
   "outputs": [
    {
     "data": {
      "text/plain": [
       "'No Match'"
      ]
     },
     "execution_count": 139,
     "metadata": {},
     "output_type": "execute_result"
    }
   ],
   "source": [
    "\n",
    "'Match' if re.fullmatch(pattern, '51440') else 'No Match' "
   ]
  },
  {
   "cell_type": "markdown",
   "id": "5e72e33f-b8d7-4e09-b4c3-063f057a7769",
   "metadata": {},
   "source": [
    "[]{} () \\ * + ^ $ ? . | "
   ]
  },
  {
   "cell_type": "code",
   "execution_count": 168,
   "id": "50fec4de-b80f-4246-b2dc-126efec41b79",
   "metadata": {},
   "outputs": [
    {
     "data": {
      "text/plain": [
       "'Valid'"
      ]
     },
     "execution_count": 168,
     "metadata": {},
     "output_type": "execute_result"
    }
   ],
   "source": [
    "'Valid' if re.fullmatch(r'\\d{5}', '02215') else 'Invalid'"
   ]
  },
  {
   "cell_type": "code",
   "execution_count": 154,
   "id": "21855944-3915-4692-8859-d4cbeeeb7aba",
   "metadata": {},
   "outputs": [
    {
     "data": {
      "text/plain": [
       "'Valid'"
      ]
     },
     "execution_count": 154,
     "metadata": {},
     "output_type": "execute_result"
    }
   ],
   "source": [
    "'Valid' if re.fullmatch(r'\\d{4}', '0125') else 'Invalid'"
   ]
  },
  {
   "cell_type": "code",
   "execution_count": 160,
   "id": "13b31382-8a9e-4c7d-bbdd-d2aa575e8be9",
   "metadata": {},
   "outputs": [
    {
     "data": {
      "text/plain": [
       "'Valid'"
      ]
     },
     "execution_count": 160,
     "metadata": {},
     "output_type": "execute_result"
    }
   ],
   "source": [
    "'Valid' if re.fullmatch('[A-Z][a-z]*', 'Wally') else 'Invalid'"
   ]
  },
  {
   "cell_type": "code",
   "execution_count": 161,
   "id": "24a47469-b193-4c4d-bb08-7ede4064760d",
   "metadata": {},
   "outputs": [
    {
     "data": {
      "text/plain": [
       "'Valid'"
      ]
     },
     "execution_count": 161,
     "metadata": {},
     "output_type": "execute_result"
    }
   ],
   "source": [
    "'Valid' if re.fullmatch('[A-z][a-z]*','eva') else 'Invalid'"
   ]
  },
  {
   "cell_type": "code",
   "execution_count": 162,
   "id": "79bf8ea6-1e0d-470c-9ae3-f401094344d2",
   "metadata": {},
   "outputs": [
    {
     "data": {
      "text/plain": [
       "'Match'"
      ]
     },
     "execution_count": 162,
     "metadata": {},
     "output_type": "execute_result"
    }
   ],
   "source": [
    "'Match' if re.fullmatch('[^a-z]','A') else 'No Match'"
   ]
  },
  {
   "cell_type": "code",
   "execution_count": 163,
   "id": "bc47f257-a84b-4216-8ff8-8a534f0aff67",
   "metadata": {},
   "outputs": [
    {
     "data": {
      "text/plain": [
       "'No Match'"
      ]
     },
     "execution_count": 163,
     "metadata": {},
     "output_type": "execute_result"
    }
   ],
   "source": [
    "'Match' if re.fullmatch('^[a-z]','A') else 'No Match'"
   ]
  },
  {
   "cell_type": "code",
   "execution_count": 164,
   "id": "fffdfd76-de8c-4c0c-b3aa-b518ffc18651",
   "metadata": {},
   "outputs": [
    {
     "data": {
      "text/plain": [
       "'No Match'"
      ]
     },
     "execution_count": 164,
     "metadata": {},
     "output_type": "execute_result"
    }
   ],
   "source": [
    "'Match' if re.fullmatch('[a-z]','A') else 'No Match'"
   ]
  },
  {
   "cell_type": "code",
   "execution_count": 165,
   "id": "f01a2e27-e409-41bb-a4b2-82171ee4d20c",
   "metadata": {},
   "outputs": [
    {
     "data": {
      "text/plain": [
       "'No Match'"
      ]
     },
     "execution_count": 165,
     "metadata": {},
     "output_type": "execute_result"
    }
   ],
   "source": [
    "'Match' if re.fullmatch('[^a-z]','a') else 'No Match'"
   ]
  },
  {
   "cell_type": "code",
   "execution_count": 169,
   "id": "5fdcf213-63a7-4b45-a437-0d3aceb36122",
   "metadata": {},
   "outputs": [
    {
     "data": {
      "text/plain": [
       "'Match'"
      ]
     },
     "execution_count": 169,
     "metadata": {},
     "output_type": "execute_result"
    }
   ],
   "source": [
    "'Match' if re.fullmatch('[*+$]','*') else 'No Match'"
   ]
  },
  {
   "cell_type": "code",
   "execution_count": 170,
   "id": "aea1115c-84b1-43c7-b551-8ef30b57c53a",
   "metadata": {},
   "outputs": [
    {
     "data": {
      "text/plain": [
       "'No Match'"
      ]
     },
     "execution_count": 170,
     "metadata": {},
     "output_type": "execute_result"
    }
   ],
   "source": [
    "'Match' if re.fullmatch('[*+$]','!') else 'No Match'"
   ]
  },
  {
   "cell_type": "code",
   "execution_count": 171,
   "id": "f75fd102-aec1-4fea-9359-bbba29ac980d",
   "metadata": {},
   "outputs": [
    {
     "data": {
      "text/plain": [
       "'Match'"
      ]
     },
     "execution_count": 171,
     "metadata": {},
     "output_type": "execute_result"
    }
   ],
   "source": [
    "'Match' if re.fullmatch('[A-z][a-z]+', 'Eva') else 'No Match'"
   ]
  },
  {
   "cell_type": "code",
   "execution_count": 172,
   "id": "2dba146e-7bac-4ca8-b2ea-79a52f33e49f",
   "metadata": {},
   "outputs": [
    {
     "data": {
      "text/plain": [
       "'No Match'"
      ]
     },
     "execution_count": 172,
     "metadata": {},
     "output_type": "execute_result"
    }
   ],
   "source": [
    "'Match' if re.fullmatch('[A-Z][a-z]+', 'E') else 'No Match'"
   ]
  },
  {
   "cell_type": "code",
   "execution_count": 174,
   "id": "9e2d5831-e9a6-4987-8dff-4a6b70453029",
   "metadata": {},
   "outputs": [
    {
     "data": {
      "text/plain": [
       "'Match'"
      ]
     },
     "execution_count": 174,
     "metadata": {},
     "output_type": "execute_result"
    }
   ],
   "source": [
    "'Match' if re.fullmatch('labell?ed', 'labelled') else 'No Match'"
   ]
  },
  {
   "cell_type": "code",
   "execution_count": 175,
   "id": "4289e49f-c97b-41bc-b2eb-d16d4da16ad1",
   "metadata": {},
   "outputs": [
    {
     "data": {
      "text/plain": [
       "'Match'"
      ]
     },
     "execution_count": 175,
     "metadata": {},
     "output_type": "execute_result"
    }
   ],
   "source": [
    "'Match' if re.fullmatch('labell?ed', 'labeled') else 'No Match'"
   ]
  },
  {
   "cell_type": "code",
   "execution_count": 176,
   "id": "82cf8a0f-558e-4b64-9b85-965e330bbb24",
   "metadata": {},
   "outputs": [
    {
     "data": {
      "text/plain": [
       "'No Match'"
      ]
     },
     "execution_count": 176,
     "metadata": {},
     "output_type": "execute_result"
    }
   ],
   "source": [
    "'Match' if re.fullmatch('labell?ed', 'labellled') else 'No Match'"
   ]
  },
  {
   "cell_type": "code",
   "execution_count": 181,
   "id": "996dff20-345a-4117-b42d-a288b25a1115",
   "metadata": {},
   "outputs": [
    {
     "data": {
      "text/plain": [
       "'Match'"
      ]
     },
     "execution_count": 181,
     "metadata": {},
     "output_type": "execute_result"
    }
   ],
   "source": [
    "'Match' if re.fullmatch(r'\\d{3,}', '123456') else 'No Match'"
   ]
  },
  {
   "cell_type": "code",
   "execution_count": 182,
   "id": "00a70dac-4894-499f-97c6-8de35b5f8ca5",
   "metadata": {},
   "outputs": [
    {
     "data": {
      "text/plain": [
       "'No Match'"
      ]
     },
     "execution_count": 182,
     "metadata": {},
     "output_type": "execute_result"
    }
   ],
   "source": [
    "'Match' if re.fullmatch(r'\\d{3,}', '12') else 'No Match'"
   ]
  },
  {
   "cell_type": "code",
   "execution_count": 183,
   "id": "071e1b8c-ba07-4c89-974f-6d3541addc43",
   "metadata": {},
   "outputs": [
    {
     "data": {
      "text/plain": [
       "'Match'"
      ]
     },
     "execution_count": 183,
     "metadata": {},
     "output_type": "execute_result"
    }
   ],
   "source": [
    "'Match' if re.fullmatch(r'\\d{3,6}', '123456') else 'No Match'"
   ]
  },
  {
   "cell_type": "code",
   "execution_count": 184,
   "id": "732ee326-28d3-469d-8f2b-e6b8d304bb96",
   "metadata": {},
   "outputs": [],
   "source": [
    "street = r'\\d+ [A-z][a-z]* [A-Z][a-z]*'"
   ]
  },
  {
   "cell_type": "code",
   "execution_count": 186,
   "id": "9dfacfca-1cbb-4f88-a8b1-2f9db69d94ae",
   "metadata": {},
   "outputs": [
    {
     "data": {
      "text/plain": [
       "'Match'"
      ]
     },
     "execution_count": 186,
     "metadata": {},
     "output_type": "execute_result"
    }
   ],
   "source": [
    "'Match' if re.fullmatch(street, '123 Main Street') else 'No Match'"
   ]
  },
  {
   "cell_type": "code",
   "execution_count": 187,
   "id": "2308765c-b5b6-4bd7-b1c2-bb62179c663d",
   "metadata": {},
   "outputs": [
    {
     "data": {
      "text/plain": [
       "'No Match'"
      ]
     },
     "execution_count": 187,
     "metadata": {},
     "output_type": "execute_result"
    }
   ],
   "source": [
    "'Match' if re.fullmatch(street,  'Main Street') else 'No Match'"
   ]
  },
  {
   "cell_type": "code",
   "execution_count": 188,
   "id": "fbe14907-a9bb-43b0-84e5-3be896e5d6e8",
   "metadata": {},
   "outputs": [
    {
     "data": {
      "text/plain": [
       "'1,2,3,4'"
      ]
     },
     "execution_count": 188,
     "metadata": {},
     "output_type": "execute_result"
    }
   ],
   "source": [
    "re.sub('\\t',',','1\\t2\\t3\\t4')"
   ]
  },
  {
   "cell_type": "code",
   "execution_count": 189,
   "id": "7ed9f184-ea00-4a61-8600-53ccffa1e8e5",
   "metadata": {},
   "outputs": [
    {
     "data": {
      "text/plain": [
       "'1,2,3\\t4'"
      ]
     },
     "execution_count": 189,
     "metadata": {},
     "output_type": "execute_result"
    }
   ],
   "source": [
    "re.sub('\\t',',','1\\t2\\t3\\t4', count = 2)"
   ]
  },
  {
   "cell_type": "code",
   "execution_count": 193,
   "id": "baa52801-fa98-4ea9-b7d1-9e1443715295",
   "metadata": {},
   "outputs": [
    {
     "data": {
      "text/plain": [
       "'1,2,3,4'"
      ]
     },
     "execution_count": 193,
     "metadata": {},
     "output_type": "execute_result"
    }
   ],
   "source": [
    "re.sub('\\t+',',','1\\t2\\t3\\t4')"
   ]
  },
  {
   "cell_type": "code",
   "execution_count": 194,
   "id": "bb5da76b-93be-40ad-aa57-61eb22779ea8",
   "metadata": {},
   "outputs": [
    {
     "data": {
      "text/plain": [
       "['123', 'Main', 'street']"
      ]
     },
     "execution_count": 194,
     "metadata": {},
     "output_type": "execute_result"
    }
   ],
   "source": [
    "re.split(r'\\$+', '123$Main$street')"
   ]
  },
  {
   "cell_type": "markdown",
   "id": "de5cf0a3-f1bd-4da8-8dd3-fa3424b867b8",
   "metadata": {},
   "source": [
    "_________________________ACCESSING MATCHES___________________________"
   ]
  },
  {
   "cell_type": "code",
   "execution_count": 196,
   "id": "8561da46-8f76-4746-be03-bec16139cd3c",
   "metadata": {},
   "outputs": [],
   "source": [
    "result  = re.search('Python', 'Python is fun')"
   ]
  },
  {
   "cell_type": "code",
   "execution_count": 197,
   "id": "e8512d5c-a0f6-4c1f-88fd-f27a7f86d61a",
   "metadata": {},
   "outputs": [
    {
     "data": {
      "text/plain": [
       "'Python'"
      ]
     },
     "execution_count": 197,
     "metadata": {},
     "output_type": "execute_result"
    }
   ],
   "source": [
    "result.group() if result else 'not found'"
   ]
  },
  {
   "cell_type": "code",
   "execution_count": 201,
   "id": "9a63c9a1-e5bc-4e22-915a-07c54aabba3d",
   "metadata": {},
   "outputs": [],
   "source": [
    "result2 = re.search('fun!', 'Python is fun')"
   ]
  },
  {
   "cell_type": "code",
   "execution_count": 202,
   "id": "e8403789-366f-48a9-aa50-faa5caaed919",
   "metadata": {},
   "outputs": [
    {
     "data": {
      "text/plain": [
       "'Python'"
      ]
     },
     "execution_count": 202,
     "metadata": {},
     "output_type": "execute_result"
    }
   ],
   "source": [
    "result.group() if result else 'not found'"
   ]
  },
  {
   "cell_type": "code",
   "execution_count": 203,
   "id": "b5fc8fc8-a136-4717-8416-648d1fc32553",
   "metadata": {},
   "outputs": [
    {
     "data": {
      "text/plain": [
       "'not found'"
      ]
     },
     "execution_count": 203,
     "metadata": {},
     "output_type": "execute_result"
    }
   ],
   "source": [
    "result2.group() if result2 else 'not found'"
   ]
  },
  {
   "cell_type": "markdown",
   "id": "4c629a71-d87c-437e-9c63-a53c15f07232",
   "metadata": {},
   "source": [
    "Ignoring case with the optional flags keyword argument\n"
   ]
  },
  {
   "cell_type": "code",
   "execution_count": 205,
   "id": "1c4df6c1-2da4-49d7-86ba-fd1178b7636a",
   "metadata": {},
   "outputs": [],
   "source": [
    "result3 = re.search('Sam', 'SAM WHITE', flags=re.IGNORECASE)"
   ]
  },
  {
   "cell_type": "code",
   "execution_count": 206,
   "id": "b17de7f6-071a-4333-89ba-5db1a0d08c50",
   "metadata": {},
   "outputs": [
    {
     "data": {
      "text/plain": [
       "'SAM'"
      ]
     },
     "execution_count": 206,
     "metadata": {},
     "output_type": "execute_result"
    }
   ],
   "source": [
    "result3.group() if result3 else 'Not found'"
   ]
  },
  {
   "cell_type": "code",
   "execution_count": 207,
   "id": "25c3826c-9fd3-4d5b-b5af-7a261178cef5",
   "metadata": {},
   "outputs": [
    {
     "ename": "AttributeError",
     "evalue": "module 're' has no attribute 'ignorecase'",
     "output_type": "error",
     "traceback": [
      "\u001b[31m---------------------------------------------------------------------------\u001b[39m",
      "\u001b[31mAttributeError\u001b[39m                            Traceback (most recent call last)",
      "\u001b[36mCell\u001b[39m\u001b[36m \u001b[39m\u001b[32mIn[207]\u001b[39m\u001b[32m, line 1\u001b[39m\n\u001b[32m----> \u001b[39m\u001b[32m1\u001b[39m result3 = re.search(\u001b[33m'\u001b[39m\u001b[33mSam\u001b[39m\u001b[33m'\u001b[39m, \u001b[33m'\u001b[39m\u001b[33mSAM WHITE\u001b[39m\u001b[33m'\u001b[39m, flags=\u001b[43mre\u001b[49m\u001b[43m.\u001b[49m\u001b[43mignorecase\u001b[49m)\n",
      "\u001b[31mAttributeError\u001b[39m: module 're' has no attribute 'ignorecase'"
     ]
    }
   ],
   "source": [
    "result3 = re.search('Sam', 'SAM WHITE', flags=re.ignorecase)"
   ]
  },
  {
   "cell_type": "code",
   "execution_count": 209,
   "id": "400cdca0-9713-4234-ab2f-fc56b25f092f",
   "metadata": {},
   "outputs": [],
   "source": [
    "result = re.search('^Python', 'Python is fun')"
   ]
  },
  {
   "cell_type": "code",
   "execution_count": 210,
   "id": "051e1251-a990-4453-a82b-b7b8a64af020",
   "metadata": {},
   "outputs": [
    {
     "ename": "SyntaxError",
     "evalue": "unmatched ')' (1097779362.py, line 1)",
     "output_type": "error",
     "traceback": [
      "  \u001b[36mCell\u001b[39m\u001b[36m \u001b[39m\u001b[32mIn[210]\u001b[39m\u001b[32m, line 1\u001b[39m\n\u001b[31m    \u001b[39m\u001b[31mresult.group() if result else 'Not found')\u001b[39m\n                                             ^\n\u001b[31mSyntaxError\u001b[39m\u001b[31m:\u001b[39m unmatched ')'\n"
     ]
    }
   ],
   "source": [
    "result.group() if result else 'Not found')"
   ]
  },
  {
   "cell_type": "code",
   "execution_count": 211,
   "id": "ced3b231-ae07-4cd0-9dd1-9b39988113e2",
   "metadata": {},
   "outputs": [],
   "source": [
    "result = re.search('Python$', 'Python is fun')"
   ]
  },
  {
   "cell_type": "code",
   "execution_count": 212,
   "id": "77875e63-4513-48a6-9358-15009ca021ac",
   "metadata": {},
   "outputs": [
    {
     "data": {
      "text/plain": [
       "'Not found'"
      ]
     },
     "execution_count": 212,
     "metadata": {},
     "output_type": "execute_result"
    }
   ],
   "source": [
    "result.group() if result else 'Not found'"
   ]
  },
  {
   "cell_type": "code",
   "execution_count": 213,
   "id": "5ea4e2d6-3112-4805-97f8-2906d65fb639",
   "metadata": {},
   "outputs": [],
   "source": [
    "result = re.search('fun$', 'Python is fun')"
   ]
  },
  {
   "cell_type": "code",
   "execution_count": 231,
   "id": "647ea1e5-c8a7-45d0-91e0-f7575a4dd829",
   "metadata": {},
   "outputs": [
    {
     "data": {
      "text/plain": [
       "'Not found'"
      ]
     },
     "execution_count": 231,
     "metadata": {},
     "output_type": "execute_result"
    }
   ],
   "source": [
    "result.group() if result else 'Not found'"
   ]
  },
  {
   "cell_type": "code",
   "execution_count": 215,
   "id": "695ee604-615b-457a-85c5-3851ee20eca8",
   "metadata": {},
   "outputs": [],
   "source": [
    "contact = 'Wally White, Home: 555-555-1234, work: 555-555-4321'"
   ]
  },
  {
   "cell_type": "code",
   "execution_count": 216,
   "id": "3b2cab53-0730-49f7-8850-cdf14497b36c",
   "metadata": {},
   "outputs": [
    {
     "data": {
      "text/plain": [
       "['555-555-1234', '555-555-4321']"
      ]
     },
     "execution_count": 216,
     "metadata": {},
     "output_type": "execute_result"
    }
   ],
   "source": [
    "re.findall(r'\\d{3}-\\d{3}-\\d{4}', contact)"
   ]
  },
  {
   "cell_type": "code",
   "execution_count": 217,
   "id": "88d02270-603b-43de-8d18-b0181606a73c",
   "metadata": {},
   "outputs": [
    {
     "name": "stdout",
     "output_type": "stream",
     "text": [
      "555-555-1234\n",
      "555-555-4321\n"
     ]
    }
   ],
   "source": [
    "for phone in re.finditer(r'\\d{3}-\\d{3}-\\d{4}', contact):\n",
    "    print(phone.group())"
   ]
  },
  {
   "cell_type": "code",
   "execution_count": 237,
   "id": "379d6fa3-d295-4a69-a1e9-8788ae766248",
   "metadata": {},
   "outputs": [],
   "source": [
    "text = 'My Sam, email: sam@deitel.com'"
   ]
  },
  {
   "cell_type": "code",
   "execution_count": 238,
   "id": "41ed9136-e006-4e8f-bc11-ac68a2e1e1d2",
   "metadata": {},
   "outputs": [],
   "source": [
    "pattern = r'([A-Z][a-z]+ [A-Z][a-z]+), email: (\\w+@\\w+\\.\\w{3})'"
   ]
  },
  {
   "cell_type": "code",
   "execution_count": 239,
   "id": "abe8eaf6-3d7b-4e98-a757-ececd1c25467",
   "metadata": {},
   "outputs": [],
   "source": [
    "result = re.search(pattern, text)"
   ]
  },
  {
   "cell_type": "code",
   "execution_count": 240,
   "id": "2ba8c4a0-1f61-4f8e-bd8b-0603d2b85e72",
   "metadata": {},
   "outputs": [
    {
     "data": {
      "text/plain": [
       "'My Sam, email: sam@deitel.com'"
      ]
     },
     "execution_count": 240,
     "metadata": {},
     "output_type": "execute_result"
    }
   ],
   "source": [
    "result.group()"
   ]
  },
  {
   "cell_type": "code",
   "execution_count": 241,
   "id": "f3279ce2-47ca-4a4a-9216-a8dee3685d2a",
   "metadata": {},
   "outputs": [
    {
     "ename": "AttributeError",
     "evalue": "module 're' has no attribute 'groups'",
     "output_type": "error",
     "traceback": [
      "\u001b[31m---------------------------------------------------------------------------\u001b[39m",
      "\u001b[31mAttributeError\u001b[39m                            Traceback (most recent call last)",
      "\u001b[36mCell\u001b[39m\u001b[36m \u001b[39m\u001b[32mIn[241]\u001b[39m\u001b[32m, line 1\u001b[39m\n\u001b[32m----> \u001b[39m\u001b[32m1\u001b[39m \u001b[43mre\u001b[49m\u001b[43m.\u001b[49m\u001b[43mgroups\u001b[49m()\n",
      "\u001b[31mAttributeError\u001b[39m: module 're' has no attribute 'groups'"
     ]
    }
   ],
   "source": [
    "re.groups()"
   ]
  },
  {
   "cell_type": "code",
   "execution_count": 242,
   "id": "09abaa4f-299d-4570-ae39-7bfca3fbd3c6",
   "metadata": {},
   "outputs": [
    {
     "data": {
      "text/plain": [
       "('My Sam', 'sam@deitel.com')"
      ]
     },
     "execution_count": 242,
     "metadata": {},
     "output_type": "execute_result"
    }
   ],
   "source": [
    "result.groups()"
   ]
  },
  {
   "cell_type": "code",
   "execution_count": 243,
   "id": "cb415f04-b203-4233-b7ce-2a79146198b3",
   "metadata": {},
   "outputs": [
    {
     "data": {
      "text/plain": [
       "'My Sam'"
      ]
     },
     "execution_count": 243,
     "metadata": {},
     "output_type": "execute_result"
    }
   ],
   "source": [
    "result.group(1)"
   ]
  },
  {
   "cell_type": "code",
   "execution_count": 244,
   "id": "83af936f-de44-476a-ae68-614d4cb9edf4",
   "metadata": {},
   "outputs": [
    {
     "data": {
      "text/plain": [
       "'sam@deitel.com'"
      ]
     },
     "execution_count": 244,
     "metadata": {},
     "output_type": "execute_result"
    }
   ],
   "source": [
    "result.group(2)"
   ]
  },
  {
   "cell_type": "code",
   "execution_count": 245,
   "id": "b5ffd002-d39f-4f81-a55e-52c85d2eae54",
   "metadata": {},
   "outputs": [],
   "source": [
    "result = re.search(r'(\\d+) ([-+*/]) (\\d+)','10 + 5')"
   ]
  },
  {
   "cell_type": "code",
   "execution_count": 246,
   "id": "f86e24e8-f23f-499d-8532-c059361f0d7d",
   "metadata": {},
   "outputs": [
    {
     "data": {
      "text/plain": [
       "('10', '+', '5')"
      ]
     },
     "execution_count": 246,
     "metadata": {},
     "output_type": "execute_result"
    }
   ],
   "source": [
    "result.groups()"
   ]
  },
  {
   "cell_type": "code",
   "execution_count": 247,
   "id": "06c67b10-8d9b-44ee-9d95-8415eb142137",
   "metadata": {},
   "outputs": [
    {
     "data": {
      "text/plain": [
       "'10 + 5'"
      ]
     },
     "execution_count": 247,
     "metadata": {},
     "output_type": "execute_result"
    }
   ],
   "source": [
    "result.group()"
   ]
  },
  {
   "cell_type": "code",
   "execution_count": 248,
   "id": "02bfdd65-7a6d-4b75-9a21-1abaddc272b7",
   "metadata": {},
   "outputs": [
    {
     "ename": "NameError",
     "evalue": "name 'pd' is not defined",
     "output_type": "error",
     "traceback": [
      "\u001b[31m---------------------------------------------------------------------------\u001b[39m",
      "\u001b[31mNameError\u001b[39m                                 Traceback (most recent call last)",
      "\u001b[36mCell\u001b[39m\u001b[36m \u001b[39m\u001b[32mIn[248]\u001b[39m\u001b[32m, line 1\u001b[39m\n\u001b[32m----> \u001b[39m\u001b[32m1\u001b[39m zips = \u001b[43mpd\u001b[49m.series({\u001b[33m'\u001b[39m\u001b[33mBoston\u001b[39m\u001b[33m'\u001b[39m: \u001b[33m'\u001b[39m\u001b[33m22121\u001b[39m\u001b[33m'\u001b[39m, \u001b[33m'\u001b[39m\u001b[33mMiami\u001b[39m\u001b[33m'\u001b[39m:\u001b[33m'\u001b[39m\u001b[33m2312\u001b[39m\u001b[33m'\u001b[39m})\n",
      "\u001b[31mNameError\u001b[39m: name 'pd' is not defined"
     ]
    }
   ],
   "source": [
    "zips = pd.series({'Boston': '22121', 'Miami':'2312'})"
   ]
  },
  {
   "cell_type": "code",
   "execution_count": 249,
   "id": "e40037a5-0f01-47d6-9054-d333d579e7b1",
   "metadata": {},
   "outputs": [],
   "source": [
    "import pandas as pd"
   ]
  },
  {
   "cell_type": "code",
   "execution_count": 251,
   "id": "9d8daf12-dfea-4a19-abcc-252164cfeaee",
   "metadata": {},
   "outputs": [],
   "source": [
    "zips = pd.Series({'Boston': '22121', 'Miami':'2312'})"
   ]
  },
  {
   "cell_type": "code",
   "execution_count": 252,
   "id": "db6adcc2-37f2-422e-97ec-6e3ed0b05d12",
   "metadata": {},
   "outputs": [
    {
     "data": {
      "text/plain": [
       "Boston    22121\n",
       "Miami      2312\n",
       "dtype: object"
      ]
     },
     "execution_count": 252,
     "metadata": {},
     "output_type": "execute_result"
    }
   ],
   "source": [
    "zips"
   ]
  },
  {
   "cell_type": "code",
   "execution_count": 253,
   "id": "923c4e23-1657-49a0-a100-0220cda9700a",
   "metadata": {},
   "outputs": [
    {
     "data": {
      "text/plain": [
       "Boston     True\n",
       "Miami     False\n",
       "dtype: bool"
      ]
     },
     "execution_count": 253,
     "metadata": {},
     "output_type": "execute_result"
    }
   ],
   "source": [
    "zips.str.match(r'\\d{5}')"
   ]
  },
  {
   "cell_type": "code",
   "execution_count": 256,
   "id": "82f23d43-0cb9-42b5-9902-ed6a16268309",
   "metadata": {},
   "outputs": [],
   "source": [
    "cities = pd.Series(['Boston, MA 02215', 'Miami, FL 33101'])"
   ]
  },
  {
   "cell_type": "code",
   "execution_count": 257,
   "id": "2510dbb3-0e84-4931-aaa6-c352598d9a9c",
   "metadata": {},
   "outputs": [
    {
     "data": {
      "text/plain": [
       "0    Boston, MA 02215\n",
       "1     Miami, FL 33101\n",
       "dtype: object"
      ]
     },
     "execution_count": 257,
     "metadata": {},
     "output_type": "execute_result"
    }
   ],
   "source": [
    "cities"
   ]
  },
  {
   "cell_type": "code",
   "execution_count": 261,
   "id": "a4c57afc-8062-4cc7-983e-6bba3640c4bc",
   "metadata": {},
   "outputs": [
    {
     "data": {
      "text/plain": [
       "0    True\n",
       "1    True\n",
       "dtype: bool"
      ]
     },
     "execution_count": 261,
     "metadata": {},
     "output_type": "execute_result"
    }
   ],
   "source": [
    "cities.str.contains('[A-Z]{2}')"
   ]
  },
  {
   "cell_type": "code",
   "execution_count": 263,
   "id": "cb20d9e1-9b0d-4c78-9897-228f5d73f516",
   "metadata": {},
   "outputs": [
    {
     "data": {
      "text/plain": [
       "0    False\n",
       "1    False\n",
       "dtype: bool"
      ]
     },
     "execution_count": 263,
     "metadata": {},
     "output_type": "execute_result"
    }
   ],
   "source": [
    "cities.str.match(' [A-z]{2}')"
   ]
  },
  {
   "cell_type": "markdown",
   "id": "21c4c4ad-f761-416e-a4d6-77421599e4c7",
   "metadata": {},
   "source": [
    "----------------REFORMING THE DATA---------------------"
   ]
  },
  {
   "cell_type": "code",
   "execution_count": 266,
   "id": "c86fcac2-8a26-4fce-8c17-6b33d5a4b776",
   "metadata": {},
   "outputs": [],
   "source": [
    "contacts = [['Mike Green', 'demo1@deitel.com','555555555555'],\n",
    "            ['Sue Brown', 'demo2@deitel.com', '555555551234']]"
   ]
  },
  {
   "cell_type": "code",
   "execution_count": 268,
   "id": "d1582206-d569-4e99-9c56-a956917be4ee",
   "metadata": {},
   "outputs": [],
   "source": [
    "contactsdf = pd.DataFrame(contacts, columns = ['Name', 'Email', 'Phone'])"
   ]
  },
  {
   "cell_type": "code",
   "execution_count": 269,
   "id": "74a70558-2f71-441d-a246-e7fa7fd5b6f5",
   "metadata": {},
   "outputs": [
    {
     "data": {
      "text/html": [
       "<div>\n",
       "<style scoped>\n",
       "    .dataframe tbody tr th:only-of-type {\n",
       "        vertical-align: middle;\n",
       "    }\n",
       "\n",
       "    .dataframe tbody tr th {\n",
       "        vertical-align: top;\n",
       "    }\n",
       "\n",
       "    .dataframe thead th {\n",
       "        text-align: right;\n",
       "    }\n",
       "</style>\n",
       "<table border=\"1\" class=\"dataframe\">\n",
       "  <thead>\n",
       "    <tr style=\"text-align: right;\">\n",
       "      <th></th>\n",
       "      <th>Name</th>\n",
       "      <th>Email</th>\n",
       "      <th>Phone</th>\n",
       "    </tr>\n",
       "  </thead>\n",
       "  <tbody>\n",
       "    <tr>\n",
       "      <th>0</th>\n",
       "      <td>Mike Green</td>\n",
       "      <td>demo1@deitel.com</td>\n",
       "      <td>555555555555</td>\n",
       "    </tr>\n",
       "    <tr>\n",
       "      <th>1</th>\n",
       "      <td>Sue Brown</td>\n",
       "      <td>demo2@deitel.com</td>\n",
       "      <td>555555551234</td>\n",
       "    </tr>\n",
       "  </tbody>\n",
       "</table>\n",
       "</div>"
      ],
      "text/plain": [
       "         Name             Email         Phone\n",
       "0  Mike Green  demo1@deitel.com  555555555555\n",
       "1   Sue Brown  demo2@deitel.com  555555551234"
      ]
     },
     "execution_count": 269,
     "metadata": {},
     "output_type": "execute_result"
    }
   ],
   "source": [
    "contactsdf"
   ]
  },
  {
   "cell_type": "code",
   "execution_count": 277,
   "id": "9271ef39-34c6-487b-8243-1d3ede95bfbe",
   "metadata": {},
   "outputs": [],
   "source": [
    "def get_formatted_phone(value):\n",
    "    result = re.fullmatch(r'(\\d{3})(\\d{3])(\\d{4})', value)\n",
    "    return '-'.join(result.grouops()) if result else value"
   ]
  },
  {
   "cell_type": "code",
   "execution_count": 278,
   "id": "8d3f2991-3d96-4f41-8ab7-4c594492145a",
   "metadata": {},
   "outputs": [
    {
     "ename": "NameError",
     "evalue": "name 'value' is not defined",
     "output_type": "error",
     "traceback": [
      "\u001b[31m---------------------------------------------------------------------------\u001b[39m",
      "\u001b[31mNameError\u001b[39m                                 Traceback (most recent call last)",
      "\u001b[36mCell\u001b[39m\u001b[36m \u001b[39m\u001b[32mIn[278]\u001b[39m\u001b[32m, line 1\u001b[39m\n\u001b[32m----> \u001b[39m\u001b[32m1\u001b[39m \u001b[43mvalue\u001b[49m\n",
      "\u001b[31mNameError\u001b[39m: name 'value' is not defined"
     ]
    }
   ],
   "source": [
    "value"
   ]
  },
  {
   "cell_type": "code",
   "execution_count": 279,
   "id": "261fe1b7-79fd-42c5-b9d5-090367ae285b",
   "metadata": {},
   "outputs": [],
   "source": [
    "formatted_phone = contactsdf['Phone'].map(get_formatted_phone)"
   ]
  },
  {
   "cell_type": "code",
   "execution_count": 298,
   "id": "17b8d89a-14c0-49ee-b85f-bc967e04a2cb",
   "metadata": {},
   "outputs": [
    {
     "data": {
      "text/plain": [
       "0    555555555555\n",
       "1    555555551234\n",
       "Name: Phone, dtype: object"
      ]
     },
     "execution_count": 298,
     "metadata": {},
     "output_type": "execute_result"
    }
   ],
   "source": [
    "formatted_phone"
   ]
  },
  {
   "cell_type": "code",
   "execution_count": 297,
   "id": "cd435b71-bb6a-4f30-b4a6-41be93bb372e",
   "metadata": {},
   "outputs": [
    {
     "data": {
      "text/html": [
       "<div>\n",
       "<style scoped>\n",
       "    .dataframe tbody tr th:only-of-type {\n",
       "        vertical-align: middle;\n",
       "    }\n",
       "\n",
       "    .dataframe tbody tr th {\n",
       "        vertical-align: top;\n",
       "    }\n",
       "\n",
       "    .dataframe thead th {\n",
       "        text-align: right;\n",
       "    }\n",
       "</style>\n",
       "<table border=\"1\" class=\"dataframe\">\n",
       "  <thead>\n",
       "    <tr style=\"text-align: right;\">\n",
       "      <th></th>\n",
       "      <th>Name</th>\n",
       "      <th>Email</th>\n",
       "      <th>Phone</th>\n",
       "      <th>phone</th>\n",
       "    </tr>\n",
       "  </thead>\n",
       "  <tbody>\n",
       "    <tr>\n",
       "      <th>0</th>\n",
       "      <td>Mike Green</td>\n",
       "      <td>demo1@deitel.com</td>\n",
       "      <td>555555555555</td>\n",
       "      <td>555555555555</td>\n",
       "    </tr>\n",
       "    <tr>\n",
       "      <th>1</th>\n",
       "      <td>Sue Brown</td>\n",
       "      <td>demo2@deitel.com</td>\n",
       "      <td>555555551234</td>\n",
       "      <td>555555551234</td>\n",
       "    </tr>\n",
       "  </tbody>\n",
       "</table>\n",
       "</div>"
      ],
      "text/plain": [
       "         Name             Email         Phone         phone\n",
       "0  Mike Green  demo1@deitel.com  555555555555  555555555555\n",
       "1   Sue Brown  demo2@deitel.com  555555551234  555555551234"
      ]
     },
     "execution_count": 297,
     "metadata": {},
     "output_type": "execute_result"
    }
   ],
   "source": [
    "contactsdf"
   ]
  },
  {
   "cell_type": "code",
   "execution_count": 293,
   "id": "280b98ff-7c62-4502-8b5f-91c4f6630503",
   "metadata": {},
   "outputs": [],
   "source": [
    "contacts = [['Mike Green', 'demo1@deitel.com', '5555555555'],\n",
    "            ['Sue Brown', 'demo2@deitel.com', '5555551234']]\n",
    "comtactsdf = pd.DataFrame(contacts, columns=['Name', 'Email', 'Phone'])"
   ]
  },
  {
   "cell_type": "code",
   "execution_count": 294,
   "id": "5cec3e4a-9fcc-4a68-96a5-e00ba81960e2",
   "metadata": {},
   "outputs": [],
   "source": [
    "def get_formatted_phone(value):\n",
    "    result = re.fullmatch(r'(\\d{3})(\\d{3})(\\d{4})', value)\n",
    "    if result:\n",
    "        part1, part2, part3 = result.groups()\n",
    "        return '(' + part1 + ') ' + part2 + '-' + part3\n",
    "    else:\n",
    "        return value"
   ]
  },
  {
   "cell_type": "code",
   "execution_count": 295,
   "id": "8ff7edec-95a8-4133-bba5-e788b2615342",
   "metadata": {},
   "outputs": [],
   "source": [
    "contactsdf['Phone'] = contactsdf['Phone'].map(get_formatted_phone)"
   ]
  },
  {
   "cell_type": "code",
   "execution_count": 296,
   "id": "f0115ba3-0e18-43db-a647-78c1a996820c",
   "metadata": {},
   "outputs": [
    {
     "data": {
      "text/html": [
       "<div>\n",
       "<style scoped>\n",
       "    .dataframe tbody tr th:only-of-type {\n",
       "        vertical-align: middle;\n",
       "    }\n",
       "\n",
       "    .dataframe tbody tr th {\n",
       "        vertical-align: top;\n",
       "    }\n",
       "\n",
       "    .dataframe thead th {\n",
       "        text-align: right;\n",
       "    }\n",
       "</style>\n",
       "<table border=\"1\" class=\"dataframe\">\n",
       "  <thead>\n",
       "    <tr style=\"text-align: right;\">\n",
       "      <th></th>\n",
       "      <th>Name</th>\n",
       "      <th>Email</th>\n",
       "      <th>Phone</th>\n",
       "      <th>phone</th>\n",
       "    </tr>\n",
       "  </thead>\n",
       "  <tbody>\n",
       "    <tr>\n",
       "      <th>0</th>\n",
       "      <td>Mike Green</td>\n",
       "      <td>demo1@deitel.com</td>\n",
       "      <td>555555555555</td>\n",
       "      <td>555555555555</td>\n",
       "    </tr>\n",
       "    <tr>\n",
       "      <th>1</th>\n",
       "      <td>Sue Brown</td>\n",
       "      <td>demo2@deitel.com</td>\n",
       "      <td>555555551234</td>\n",
       "      <td>555555551234</td>\n",
       "    </tr>\n",
       "  </tbody>\n",
       "</table>\n",
       "</div>"
      ],
      "text/plain": [
       "         Name             Email         Phone         phone\n",
       "0  Mike Green  demo1@deitel.com  555555555555  555555555555\n",
       "1   Sue Brown  demo2@deitel.com  555555551234  555555551234"
      ]
     },
     "execution_count": 296,
     "metadata": {},
     "output_type": "execute_result"
    }
   ],
   "source": [
    "contactsdf"
   ]
  },
  {
   "cell_type": "code",
   "execution_count": 299,
   "id": "c2b5817a-88b1-4a80-8889-fd32020f082e",
   "metadata": {},
   "outputs": [],
   "source": [
    "%recall 293 294 295 296"
   ]
  },
  {
   "cell_type": "code",
   "execution_count": 301,
   "id": "299ee33c-510b-4c76-b08a-7d43cbaaecfb",
   "metadata": {},
   "outputs": [
    {
     "data": {
      "text/html": [
       "<div>\n",
       "<style scoped>\n",
       "    .dataframe tbody tr th:only-of-type {\n",
       "        vertical-align: middle;\n",
       "    }\n",
       "\n",
       "    .dataframe tbody tr th {\n",
       "        vertical-align: top;\n",
       "    }\n",
       "\n",
       "    .dataframe thead th {\n",
       "        text-align: right;\n",
       "    }\n",
       "</style>\n",
       "<table border=\"1\" class=\"dataframe\">\n",
       "  <thead>\n",
       "    <tr style=\"text-align: right;\">\n",
       "      <th></th>\n",
       "      <th>Name</th>\n",
       "      <th>Email</th>\n",
       "      <th>Phone</th>\n",
       "    </tr>\n",
       "  </thead>\n",
       "  <tbody>\n",
       "    <tr>\n",
       "      <th>0</th>\n",
       "      <td>Mike Green</td>\n",
       "      <td>demo1@deitel.com</td>\n",
       "      <td>(555) 555-5555</td>\n",
       "    </tr>\n",
       "    <tr>\n",
       "      <th>1</th>\n",
       "      <td>Sue Brown</td>\n",
       "      <td>demo2@deitel.com</td>\n",
       "      <td>(555) 555-1234</td>\n",
       "    </tr>\n",
       "  </tbody>\n",
       "</table>\n",
       "</div>"
      ],
      "text/plain": [
       "         Name             Email           Phone\n",
       "0  Mike Green  demo1@deitel.com  (555) 555-5555\n",
       "1   Sue Brown  demo2@deitel.com  (555) 555-1234"
      ]
     },
     "execution_count": 301,
     "metadata": {},
     "output_type": "execute_result"
    }
   ],
   "source": [
    "contacts = [['Mike Green', 'demo1@deitel.com', '5555555555'],\n",
    "            ['Sue Brown', 'demo2@deitel.com', '5555551234']]\n",
    "contactsd = pd.DataFrame(contacts, columns=['Name', 'Email', 'Phone'])\n",
    "def get_formatted_phone(value):\n",
    "    result = re.fullmatch(r'(\\d{3})(\\d{3})(\\d{4})', value)\n",
    "    if result:\n",
    "        part1, part2, part3 = result.groups()\n",
    "        return '(' + part1 + ') ' + part2 + '-' + part3\n",
    "    else:\n",
    "        return value\n",
    "contactsd['Phone'] = contactsd['Phone'].map(get_formatted_phone)\n",
    "contactsd"
   ]
  },
  {
   "cell_type": "code",
   "execution_count": null,
   "id": "2d5a597c-dc8e-4245-b5b1-344a2b78d3a9",
   "metadata": {},
   "outputs": [],
   "source": []
  }
 ],
 "metadata": {
  "kernelspec": {
   "display_name": "Python 3 (ipykernel)",
   "language": "python",
   "name": "python3"
  },
  "language_info": {
   "codemirror_mode": {
    "name": "ipython",
    "version": 3
   },
   "file_extension": ".py",
   "mimetype": "text/x-python",
   "name": "python",
   "nbconvert_exporter": "python",
   "pygments_lexer": "ipython3",
   "version": "3.13.7"
  }
 },
 "nbformat": 4,
 "nbformat_minor": 5
}
