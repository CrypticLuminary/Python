{
 "cells": [
  {
   "cell_type": "code",
   "execution_count": 1,
   "id": "91fff871-ab09-43bc-b9c1-ff2d76fc1f8e",
   "metadata": {},
   "outputs": [],
   "source": [
    "import numpy as np\n"
   ]
  },
  {
   "cell_type": "code",
   "execution_count": 2,
   "id": "a6a69ab6-90fa-4ebf-b298-8492c697b9e4",
   "metadata": {},
   "outputs": [],
   "source": [
    "numbers = np.array([1,2,3,4,5])"
   ]
  },
  {
   "cell_type": "code",
   "execution_count": 3,
   "id": "47a6ac01-d1c4-4d3e-9ff5-a04a2affd06e",
   "metadata": {},
   "outputs": [
    {
     "data": {
      "text/plain": [
       "numpy.ndarray"
      ]
     },
     "execution_count": 3,
     "metadata": {},
     "output_type": "execute_result"
    }
   ],
   "source": [
    "type(numbers)"
   ]
  },
  {
   "cell_type": "code",
   "execution_count": 4,
   "id": "b4355fd0-a0d9-4af4-ad3d-146fb5565735",
   "metadata": {},
   "outputs": [
    {
     "data": {
      "text/plain": [
       "array([1, 2, 3, 4, 5])"
      ]
     },
     "execution_count": 4,
     "metadata": {},
     "output_type": "execute_result"
    }
   ],
   "source": [
    "numbers"
   ]
  },
  {
   "cell_type": "code",
   "execution_count": 5,
   "id": "3c71c100-fd9d-4839-a738-b96d983640ad",
   "metadata": {},
   "outputs": [
    {
     "data": {
      "text/plain": [
       "array([[1, 2, 3],\n",
       "       [4, 5, 6]])"
      ]
     },
     "execution_count": 5,
     "metadata": {},
     "output_type": "execute_result"
    }
   ],
   "source": [
    "np.array([[1,2,3],[4,5,6]])"
   ]
  },
  {
   "cell_type": "code",
   "execution_count": 6,
   "id": "b4fa4699-adeb-4ca1-84ec-b64975f26030",
   "metadata": {},
   "outputs": [],
   "source": [
    "num = [x for x in range (21) if x%2 ==0]\n"
   ]
  },
  {
   "cell_type": "code",
   "execution_count": 7,
   "id": "dd478f8c-2c2a-4a59-8d30-b43db200710c",
   "metadata": {},
   "outputs": [
    {
     "name": "stdout",
     "output_type": "stream",
     "text": [
      "[0, 2, 4, 6, 8, 10, 12, 14, 16, 18, 20]\n"
     ]
    }
   ],
   "source": [
    "print(num)"
   ]
  },
  {
   "cell_type": "code",
   "execution_count": 8,
   "id": "b6f1725c-457d-4959-8e61-5c427acdb7df",
   "metadata": {},
   "outputs": [],
   "source": [
    "num = [x for x in range (2,21,2)]\n"
   ]
  },
  {
   "cell_type": "code",
   "execution_count": 9,
   "id": "1e69efba-fba2-4349-987a-81a94000873a",
   "metadata": {},
   "outputs": [
    {
     "name": "stdout",
     "output_type": "stream",
     "text": [
      "[2, 4, 6, 8, 10, 12, 14, 16, 18, 20]\n"
     ]
    }
   ],
   "source": [
    "print(num)"
   ]
  },
  {
   "cell_type": "code",
   "execution_count": 12,
   "id": "d9c47e75-f360-48a4-b6b8-229b607dc427",
   "metadata": {},
   "outputs": [
    {
     "name": "stdout",
     "output_type": "stream",
     "text": [
      "[[1 2 3]\n",
      " [4 5 6]]\n"
     ]
    }
   ],
   "source": [
    "integers = np.array([[1,2,3,],[4,5,6]])\n",
    "\n",
    "print(integers)"
   ]
  },
  {
   "cell_type": "code",
   "execution_count": 13,
   "id": "937d5af5-b368-4495-9bd9-e367df4ad91a",
   "metadata": {},
   "outputs": [
    {
     "data": {
      "text/plain": [
       "2"
      ]
     },
     "execution_count": 13,
     "metadata": {},
     "output_type": "execute_result"
    }
   ],
   "source": [
    "integers.ndim"
   ]
  },
  {
   "cell_type": "code",
   "execution_count": 14,
   "id": "7655c2b4-96ef-41ca-9a12-b3ab86d0d024",
   "metadata": {},
   "outputs": [
    {
     "data": {
      "text/plain": [
       "1"
      ]
     },
     "execution_count": 14,
     "metadata": {},
     "output_type": "execute_result"
    }
   ],
   "source": [
    "numbers.ndim"
   ]
  },
  {
   "cell_type": "code",
   "execution_count": 16,
   "id": "1b4e9272-b4d5-41ee-b86b-066dd9364e63",
   "metadata": {},
   "outputs": [
    {
     "data": {
      "text/plain": [
       "(2, 3)"
      ]
     },
     "execution_count": 16,
     "metadata": {},
     "output_type": "execute_result"
    }
   ],
   "source": [
    "integers.shape"
   ]
  },
  {
   "cell_type": "code",
   "execution_count": 18,
   "id": "f409c95e-d1f8-448b-9aa2-08705c4eb6b2",
   "metadata": {},
   "outputs": [
    {
     "data": {
      "text/plain": [
       "(5,)"
      ]
     },
     "execution_count": 18,
     "metadata": {},
     "output_type": "execute_result"
    }
   ],
   "source": [
    "numbers.shape"
   ]
  },
  {
   "cell_type": "code",
   "execution_count": 19,
   "id": "8c0d95ba-581c-4d85-b5aa-6943207514f2",
   "metadata": {},
   "outputs": [
    {
     "data": {
      "text/plain": [
       "6"
      ]
     },
     "execution_count": 19,
     "metadata": {},
     "output_type": "execute_result"
    }
   ],
   "source": [
    "integers.size"
   ]
  },
  {
   "cell_type": "code",
   "execution_count": 20,
   "id": "28bb1a2d-9196-4b2f-a393-e5ca2784ef54",
   "metadata": {},
   "outputs": [
    {
     "data": {
      "text/plain": [
       "8"
      ]
     },
     "execution_count": 20,
     "metadata": {},
     "output_type": "execute_result"
    }
   ],
   "source": [
    "integers.itemsize"
   ]
  },
  {
   "cell_type": "code",
   "execution_count": 21,
   "id": "0c1a412f-b06f-4daa-b5c4-0acb4e5cfc1a",
   "metadata": {},
   "outputs": [
    {
     "name": "stdout",
     "output_type": "stream",
     "text": [
      "1 2 3 \n",
      "4 5 6 \n"
     ]
    }
   ],
   "source": [
    "for row in integers:\n",
    "    for column in row:\n",
    "        print(column, end = ' ')\n",
    "    print()"
   ]
  },
  {
   "cell_type": "code",
   "execution_count": 23,
   "id": "3073f58a-5580-4460-8272-68edb7018e63",
   "metadata": {},
   "outputs": [
    {
     "name": "stdout",
     "output_type": "stream",
     "text": [
      "1 2 3 4 5 6 "
     ]
    }
   ],
   "source": [
    "for i in integers.flat:\n",
    "    print(i, end = ' ')"
   ]
  },
  {
   "cell_type": "markdown",
   "id": "d7623567-7691-44fe-b319-dbb8b911b5ff",
   "metadata": {},
   "source": [
    "---------------------------------FUNCTION CALLBACK-----------------------\n"
   ]
  },
  {
   "cell_type": "code",
   "execution_count": 6,
   "id": "17c15dc9-18de-43bd-bc16-ea6a36a63d8c",
   "metadata": {},
   "outputs": [],
   "source": [
    "import time\n",
    "def finished_cooking():\n",
    "    print(\"ding dong finished cooking\")"
   ]
  },
  {
   "cell_type": "code",
   "execution_count": 11,
   "id": "25697dec-a144-4f04-a3a2-6b67258983c7",
   "metadata": {},
   "outputs": [],
   "source": [
    "def cooking(action):\n",
    "    print(\"cooking food for my wife\")\n",
    "   \n",
    "    for i in range(int(time.sleep(2)),-1):\n",
    "        print(i,end = \"\\r\")\n",
    "    action()"
   ]
  },
  {
   "cell_type": "code",
   "execution_count": 12,
   "id": "deee9268-b7bd-4d1d-a750-9fc9c3bdd155",
   "metadata": {},
   "outputs": [
    {
     "name": "stdout",
     "output_type": "stream",
     "text": [
      "cooking food for my wife\n"
     ]
    },
    {
     "ename": "TypeError",
     "evalue": "int() argument must be a string, a bytes-like object or a real number, not 'NoneType'",
     "output_type": "error",
     "traceback": [
      "\u001b[31m---------------------------------------------------------------------------\u001b[39m",
      "\u001b[31mTypeError\u001b[39m                                 Traceback (most recent call last)",
      "\u001b[36mCell\u001b[39m\u001b[36m \u001b[39m\u001b[32mIn[12]\u001b[39m\u001b[32m, line 1\u001b[39m\n\u001b[32m----> \u001b[39m\u001b[32m1\u001b[39m \u001b[43mcooking\u001b[49m\u001b[43m(\u001b[49m\u001b[43mfinished_cooking\u001b[49m\u001b[43m)\u001b[49m\n",
      "\u001b[36mCell\u001b[39m\u001b[36m \u001b[39m\u001b[32mIn[11]\u001b[39m\u001b[32m, line 4\u001b[39m, in \u001b[36mcooking\u001b[39m\u001b[34m(action)\u001b[39m\n\u001b[32m      1\u001b[39m \u001b[38;5;28;01mdef\u001b[39;00m\u001b[38;5;250m \u001b[39m\u001b[34mcooking\u001b[39m(action):\n\u001b[32m      2\u001b[39m     \u001b[38;5;28mprint\u001b[39m(\u001b[33m\"\u001b[39m\u001b[33mcooking food for my wife\u001b[39m\u001b[33m\"\u001b[39m)\n\u001b[32m----> \u001b[39m\u001b[32m4\u001b[39m     \u001b[38;5;28;01mfor\u001b[39;00m i \u001b[38;5;129;01min\u001b[39;00m \u001b[38;5;28mrange\u001b[39m(\u001b[38;5;28;43mint\u001b[39;49m\u001b[43m(\u001b[49m\u001b[43mtime\u001b[49m\u001b[43m.\u001b[49m\u001b[43msleep\u001b[49m\u001b[43m(\u001b[49m\u001b[32;43m2\u001b[39;49m\u001b[43m)\u001b[49m\u001b[43m)\u001b[49m,-\u001b[32m1\u001b[39m):\n\u001b[32m      5\u001b[39m         \u001b[38;5;28mprint\u001b[39m(i)\n\u001b[32m      6\u001b[39m     action()\n",
      "\u001b[31mTypeError\u001b[39m: int() argument must be a string, a bytes-like object or a real number, not 'NoneType'"
     ]
    }
   ],
   "source": [
    "cooking(finished_cooking)"
   ]
  },
  {
   "cell_type": "code",
   "execution_count": 15,
   "id": "63d75bde-7077-4d0b-856c-1cbe84051b32",
   "metadata": {},
   "outputs": [
    {
     "name": "stdout",
     "output_type": "stream",
     "text": [
      "Cooking food for my wife...\n",
      "Time left: 0\n",
      "Ding dong! Finished cooking 🍲\n"
     ]
    }
   ],
   "source": [
    "import time\n",
    "\n",
    "def finished_cooking():\n",
    "    print(\"Ding dong! Finished cooking 🍲\")\n",
    "\n",
    "def cooking(action):\n",
    "    print(\"Cooking food for my wife...\")\n",
    "\n",
    "    # countdown from 5 to 0\n",
    "    for i in range(5, -1, -1):   # start at 5, stop at -1\n",
    "        print(f\"Time left: {i}\", end=\"\\r\")  \n",
    "        time.sleep(1)  # wait 1 second each time\n",
    "\n",
    "    print()  # move to next line after countdown\n",
    "    action() # call the callback\n",
    "\n",
    "cooking(finished_cooking)\n"
   ]
  },
  {
   "cell_type": "code",
   "execution_count": 16,
   "id": "b37cde73-7038-4483-879d-5f18461b9256",
   "metadata": {},
   "outputs": [
    {
     "name": "stdout",
     "output_type": "stream",
     "text": [
      "Cooking food for my wife...\n",
      "\u001b[KTime left: 0\n",
      "Ding dong! Finished cooking 🍲\n"
     ]
    }
   ],
   "source": [
    "import time\n",
    "\n",
    "def finished_cooking():\n",
    "    print(\"Ding dong! Finished cooking 🍲\")\n",
    "\n",
    "def cooking(action):\n",
    "    print(\"Cooking food for my wife...\")\n",
    "    for i in range(5, -1, -1):\n",
    "        print(f\"\\033[KTime left: {i}\", end=\"\\r\")\n",
    "        time.sleep(1)\n",
    "    print()\n",
    "    action()\n",
    "\n",
    "cooking(finished_cooking)\n"
   ]
  },
  {
   "cell_type": "code",
   "execution_count": null,
   "id": "b3b3107f-2fac-4220-98c2-1050a2f23d3d",
   "metadata": {},
   "outputs": [],
   "source": []
  }
 ],
 "metadata": {
  "kernelspec": {
   "display_name": "Python 3 (ipykernel)",
   "language": "python",
   "name": "python3"
  },
  "language_info": {
   "codemirror_mode": {
    "name": "ipython",
    "version": 3
   },
   "file_extension": ".py",
   "mimetype": "text/x-python",
   "name": "python",
   "nbconvert_exporter": "python",
   "pygments_lexer": "ipython3",
   "version": "3.13.7"
  }
 },
 "nbformat": 4,
 "nbformat_minor": 5
}
