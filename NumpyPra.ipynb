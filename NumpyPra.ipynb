{
 "cells": [
  {
   "cell_type": "code",
   "execution_count": 1,
   "id": "91fff871-ab09-43bc-b9c1-ff2d76fc1f8e",
   "metadata": {},
   "outputs": [],
   "source": [
    "import numpy as np\n"
   ]
  },
  {
   "cell_type": "code",
   "execution_count": 2,
   "id": "a6a69ab6-90fa-4ebf-b298-8492c697b9e4",
   "metadata": {},
   "outputs": [],
   "source": [
    "numbers = np.array([1,2,3,4,5])"
   ]
  },
  {
   "cell_type": "code",
   "execution_count": 3,
   "id": "47a6ac01-d1c4-4d3e-9ff5-a04a2affd06e",
   "metadata": {},
   "outputs": [
    {
     "data": {
      "text/plain": [
       "numpy.ndarray"
      ]
     },
     "execution_count": 3,
     "metadata": {},
     "output_type": "execute_result"
    }
   ],
   "source": [
    "type(numbers)"
   ]
  },
  {
   "cell_type": "code",
   "execution_count": 4,
   "id": "b4355fd0-a0d9-4af4-ad3d-146fb5565735",
   "metadata": {},
   "outputs": [
    {
     "data": {
      "text/plain": [
       "array([1, 2, 3, 4, 5])"
      ]
     },
     "execution_count": 4,
     "metadata": {},
     "output_type": "execute_result"
    }
   ],
   "source": [
    "numbers"
   ]
  },
  {
   "cell_type": "code",
   "execution_count": 5,
   "id": "3c71c100-fd9d-4839-a738-b96d983640ad",
   "metadata": {},
   "outputs": [
    {
     "data": {
      "text/plain": [
       "array([[1, 2, 3],\n",
       "       [4, 5, 6]])"
      ]
     },
     "execution_count": 5,
     "metadata": {},
     "output_type": "execute_result"
    }
   ],
   "source": [
    "np.array([[1,2,3],[4,5,6]])"
   ]
  },
  {
   "cell_type": "code",
   "execution_count": 6,
   "id": "b4fa4699-adeb-4ca1-84ec-b64975f26030",
   "metadata": {},
   "outputs": [],
   "source": [
    "num = [x for x in range (21) if x%2 ==0]\n"
   ]
  },
  {
   "cell_type": "code",
   "execution_count": 7,
   "id": "dd478f8c-2c2a-4a59-8d30-b43db200710c",
   "metadata": {},
   "outputs": [
    {
     "name": "stdout",
     "output_type": "stream",
     "text": [
      "[0, 2, 4, 6, 8, 10, 12, 14, 16, 18, 20]\n"
     ]
    }
   ],
   "source": [
    "print(num)"
   ]
  },
  {
   "cell_type": "code",
   "execution_count": 8,
   "id": "b6f1725c-457d-4959-8e61-5c427acdb7df",
   "metadata": {},
   "outputs": [],
   "source": [
    "num = [x for x in range (2,21,2)]\n"
   ]
  },
  {
   "cell_type": "code",
   "execution_count": 9,
   "id": "1e69efba-fba2-4349-987a-81a94000873a",
   "metadata": {},
   "outputs": [
    {
     "name": "stdout",
     "output_type": "stream",
     "text": [
      "[2, 4, 6, 8, 10, 12, 14, 16, 18, 20]\n"
     ]
    }
   ],
   "source": [
    "print(num)"
   ]
  },
  {
   "cell_type": "code",
   "execution_count": 12,
   "id": "d9c47e75-f360-48a4-b6b8-229b607dc427",
   "metadata": {},
   "outputs": [
    {
     "name": "stdout",
     "output_type": "stream",
     "text": [
      "[[1 2 3]\n",
      " [4 5 6]]\n"
     ]
    }
   ],
   "source": [
    "integers = np.array([[1,2,3,],[4,5,6]])\n",
    "\n",
    "print(integers)"
   ]
  },
  {
   "cell_type": "code",
   "execution_count": 13,
   "id": "937d5af5-b368-4495-9bd9-e367df4ad91a",
   "metadata": {},
   "outputs": [
    {
     "data": {
      "text/plain": [
       "2"
      ]
     },
     "execution_count": 13,
     "metadata": {},
     "output_type": "execute_result"
    }
   ],
   "source": [
    "integers.ndim"
   ]
  },
  {
   "cell_type": "code",
   "execution_count": 14,
   "id": "7655c2b4-96ef-41ca-9a12-b3ab86d0d024",
   "metadata": {},
   "outputs": [
    {
     "data": {
      "text/plain": [
       "1"
      ]
     },
     "execution_count": 14,
     "metadata": {},
     "output_type": "execute_result"
    }
   ],
   "source": [
    "numbers.ndim"
   ]
  },
  {
   "cell_type": "code",
   "execution_count": 16,
   "id": "1b4e9272-b4d5-41ee-b86b-066dd9364e63",
   "metadata": {},
   "outputs": [
    {
     "data": {
      "text/plain": [
       "(2, 3)"
      ]
     },
     "execution_count": 16,
     "metadata": {},
     "output_type": "execute_result"
    }
   ],
   "source": [
    "integers.shape"
   ]
  },
  {
   "cell_type": "code",
   "execution_count": 18,
   "id": "f409c95e-d1f8-448b-9aa2-08705c4eb6b2",
   "metadata": {},
   "outputs": [
    {
     "data": {
      "text/plain": [
       "(5,)"
      ]
     },
     "execution_count": 18,
     "metadata": {},
     "output_type": "execute_result"
    }
   ],
   "source": [
    "numbers.shape"
   ]
  },
  {
   "cell_type": "code",
   "execution_count": 19,
   "id": "8c0d95ba-581c-4d85-b5aa-6943207514f2",
   "metadata": {},
   "outputs": [
    {
     "data": {
      "text/plain": [
       "6"
      ]
     },
     "execution_count": 19,
     "metadata": {},
     "output_type": "execute_result"
    }
   ],
   "source": [
    "integers.size"
   ]
  },
  {
   "cell_type": "code",
   "execution_count": 20,
   "id": "28bb1a2d-9196-4b2f-a393-e5ca2784ef54",
   "metadata": {},
   "outputs": [
    {
     "data": {
      "text/plain": [
       "8"
      ]
     },
     "execution_count": 20,
     "metadata": {},
     "output_type": "execute_result"
    }
   ],
   "source": [
    "integers.itemsize"
   ]
  },
  {
   "cell_type": "code",
   "execution_count": 21,
   "id": "0c1a412f-b06f-4daa-b5c4-0acb4e5cfc1a",
   "metadata": {},
   "outputs": [
    {
     "name": "stdout",
     "output_type": "stream",
     "text": [
      "1 2 3 \n",
      "4 5 6 \n"
     ]
    }
   ],
   "source": [
    "for row in integers:\n",
    "    for column in row:\n",
    "        print(column, end = ' ')\n",
    "    print()"
   ]
  },
  {
   "cell_type": "code",
   "execution_count": 23,
   "id": "3073f58a-5580-4460-8272-68edb7018e63",
   "metadata": {},
   "outputs": [
    {
     "name": "stdout",
     "output_type": "stream",
     "text": [
      "1 2 3 4 5 6 "
     ]
    }
   ],
   "source": [
    "for i in integers.flat:\n",
    "    print(i, end = ' ')"
   ]
  },
  {
   "cell_type": "markdown",
   "id": "d7623567-7691-44fe-b319-dbb8b911b5ff",
   "metadata": {},
   "source": [
    "---------------------------------FUNCTION CALLBACK-----------------------\n"
   ]
  },
  {
   "cell_type": "code",
   "execution_count": 6,
   "id": "17c15dc9-18de-43bd-bc16-ea6a36a63d8c",
   "metadata": {},
   "outputs": [],
   "source": [
    "import time\n",
    "def finished_cooking():\n",
    "    print(\"ding dong finished cooking\")"
   ]
  },
  {
   "cell_type": "code",
   "execution_count": 11,
   "id": "25697dec-a144-4f04-a3a2-6b67258983c7",
   "metadata": {},
   "outputs": [],
   "source": [
    "def cooking(action):\n",
    "    print(\"cooking food for my wife\")\n",
    "   \n",
    "    for i in range(int(time.sleep(2)),-1):\n",
    "        print(i,end = \"\\r\")\n",
    "    action()"
   ]
  },
  {
   "cell_type": "code",
   "execution_count": 12,
   "id": "deee9268-b7bd-4d1d-a750-9fc9c3bdd155",
   "metadata": {},
   "outputs": [
    {
     "name": "stdout",
     "output_type": "stream",
     "text": [
      "cooking food for my wife\n"
     ]
    },
    {
     "ename": "TypeError",
     "evalue": "int() argument must be a string, a bytes-like object or a real number, not 'NoneType'",
     "output_type": "error",
     "traceback": [
      "\u001b[31m---------------------------------------------------------------------------\u001b[39m",
      "\u001b[31mTypeError\u001b[39m                                 Traceback (most recent call last)",
      "\u001b[36mCell\u001b[39m\u001b[36m \u001b[39m\u001b[32mIn[12]\u001b[39m\u001b[32m, line 1\u001b[39m\n\u001b[32m----> \u001b[39m\u001b[32m1\u001b[39m \u001b[43mcooking\u001b[49m\u001b[43m(\u001b[49m\u001b[43mfinished_cooking\u001b[49m\u001b[43m)\u001b[49m\n",
      "\u001b[36mCell\u001b[39m\u001b[36m \u001b[39m\u001b[32mIn[11]\u001b[39m\u001b[32m, line 4\u001b[39m, in \u001b[36mcooking\u001b[39m\u001b[34m(action)\u001b[39m\n\u001b[32m      1\u001b[39m \u001b[38;5;28;01mdef\u001b[39;00m\u001b[38;5;250m \u001b[39m\u001b[34mcooking\u001b[39m(action):\n\u001b[32m      2\u001b[39m     \u001b[38;5;28mprint\u001b[39m(\u001b[33m\"\u001b[39m\u001b[33mcooking food for my wife\u001b[39m\u001b[33m\"\u001b[39m)\n\u001b[32m----> \u001b[39m\u001b[32m4\u001b[39m     \u001b[38;5;28;01mfor\u001b[39;00m i \u001b[38;5;129;01min\u001b[39;00m \u001b[38;5;28mrange\u001b[39m(\u001b[38;5;28;43mint\u001b[39;49m\u001b[43m(\u001b[49m\u001b[43mtime\u001b[49m\u001b[43m.\u001b[49m\u001b[43msleep\u001b[49m\u001b[43m(\u001b[49m\u001b[32;43m2\u001b[39;49m\u001b[43m)\u001b[49m\u001b[43m)\u001b[49m,-\u001b[32m1\u001b[39m):\n\u001b[32m      5\u001b[39m         \u001b[38;5;28mprint\u001b[39m(i)\n\u001b[32m      6\u001b[39m     action()\n",
      "\u001b[31mTypeError\u001b[39m: int() argument must be a string, a bytes-like object or a real number, not 'NoneType'"
     ]
    }
   ],
   "source": [
    "cooking(finished_cooking)"
   ]
  },
  {
   "cell_type": "code",
   "execution_count": 15,
   "id": "63d75bde-7077-4d0b-856c-1cbe84051b32",
   "metadata": {},
   "outputs": [
    {
     "name": "stdout",
     "output_type": "stream",
     "text": [
      "Cooking food for my wife...\n",
      "Time left: 0\n",
      "Ding dong! Finished cooking 🍲\n"
     ]
    }
   ],
   "source": [
    "import time\n",
    "\n",
    "def finished_cooking():\n",
    "    print(\"Ding dong! Finished cooking 🍲\")\n",
    "\n",
    "def cooking(action):\n",
    "    print(\"Cooking food for my wife...\")\n",
    "\n",
    "    # countdown from 5 to 0\n",
    "    for i in range(5, -1, -1):   # start at 5, stop at -1\n",
    "        print(f\"Time left: {i}\", end=\"\\r\")  \n",
    "        time.sleep(1)  # wait 1 second each time\n",
    "\n",
    "    print()  # move to next line after countdown\n",
    "    action() # call the callback\n",
    "\n",
    "cooking(finished_cooking)\n"
   ]
  },
  {
   "cell_type": "code",
   "execution_count": 16,
   "id": "b37cde73-7038-4483-879d-5f18461b9256",
   "metadata": {},
   "outputs": [
    {
     "name": "stdout",
     "output_type": "stream",
     "text": [
      "Cooking food for my wife...\n",
      "\u001b[KTime left: 0\n",
      "Ding dong! Finished cooking 🍲\n"
     ]
    }
   ],
   "source": [
    "import time\n",
    "\n",
    "def finished_cooking():\n",
    "    print(\"Ding dong! Finished cooking 🍲\")\n",
    "\n",
    "def cooking(action):\n",
    "    print(\"Cooking food for my wife...\")\n",
    "    for i in range(5, -1, -1):\n",
    "        print(f\"\\033[KTime left: {i}\", end=\"\\r\")\n",
    "        time.sleep(1)\n",
    "    print()\n",
    "    action()\n",
    "\n",
    "cooking(finished_cooking)\n"
   ]
  },
  {
   "cell_type": "code",
   "execution_count": 17,
   "id": "b3b3107f-2fac-4220-98c2-1050a2f23d3d",
   "metadata": {},
   "outputs": [
    {
     "ename": "NameError",
     "evalue": "name 'np' is not defined",
     "output_type": "error",
     "traceback": [
      "\u001b[31m---------------------------------------------------------------------------\u001b[39m",
      "\u001b[31mNameError\u001b[39m                                 Traceback (most recent call last)",
      "\u001b[36mCell\u001b[39m\u001b[36m \u001b[39m\u001b[32mIn[17]\u001b[39m\u001b[32m, line 1\u001b[39m\n\u001b[32m----> \u001b[39m\u001b[32m1\u001b[39m \u001b[43mnp\u001b[49m.arrange(\u001b[32m5\u001b[39m)\n",
      "\u001b[31mNameError\u001b[39m: name 'np' is not defined"
     ]
    }
   ],
   "source": [
    "np.arrange(5)"
   ]
  },
  {
   "cell_type": "code",
   "execution_count": 18,
   "id": "68b0050c-4b83-4679-88f1-618a4719db9e",
   "metadata": {},
   "outputs": [
    {
     "ename": "ModuleNotFoundError",
     "evalue": "No module named 'np'",
     "output_type": "error",
     "traceback": [
      "\u001b[31m---------------------------------------------------------------------------\u001b[39m",
      "\u001b[31mModuleNotFoundError\u001b[39m                       Traceback (most recent call last)",
      "\u001b[36mCell\u001b[39m\u001b[36m \u001b[39m\u001b[32mIn[18]\u001b[39m\u001b[32m, line 1\u001b[39m\n\u001b[32m----> \u001b[39m\u001b[32m1\u001b[39m \u001b[38;5;28;01mimport\u001b[39;00m\u001b[38;5;250m \u001b[39m\u001b[34;01mnp\u001b[39;00m\n",
      "\u001b[31mModuleNotFoundError\u001b[39m: No module named 'np'"
     ]
    }
   ],
   "source": [
    "import np\n"
   ]
  },
  {
   "cell_type": "code",
   "execution_count": 19,
   "id": "04f56085-5b92-4706-9207-893161707e06",
   "metadata": {},
   "outputs": [],
   "source": [
    "import numpy as np"
   ]
  },
  {
   "cell_type": "code",
   "execution_count": 21,
   "id": "4698558b-ec74-4ac4-b984-388a26de7e0c",
   "metadata": {},
   "outputs": [
    {
     "data": {
      "text/plain": [
       "array([0, 1, 2, 3, 4])"
      ]
     },
     "execution_count": 21,
     "metadata": {},
     "output_type": "execute_result"
    }
   ],
   "source": [
    "np.arange(5)"
   ]
  },
  {
   "cell_type": "code",
   "execution_count": 22,
   "id": "b0866067-56ea-41b5-aa40-c00e4f33870b",
   "metadata": {},
   "outputs": [
    {
     "data": {
      "text/plain": [
       "array([ 5,  6,  7,  8,  9, 10, 11, 12, 13, 14, 15, 16, 17, 18, 19])"
      ]
     },
     "execution_count": 22,
     "metadata": {},
     "output_type": "execute_result"
    }
   ],
   "source": [
    "np.arange(5,20)"
   ]
  },
  {
   "cell_type": "code",
   "execution_count": 23,
   "id": "55c13942-dafb-4c23-bcab-420340ef64f6",
   "metadata": {},
   "outputs": [
    {
     "data": {
      "text/plain": [
       "array([ 1,  2,  3,  4,  5,  6,  7,  8,  9, 10, 11, 12, 13, 14, 15, 16, 17,\n",
       "       18, 19, 20])"
      ]
     },
     "execution_count": 23,
     "metadata": {},
     "output_type": "execute_result"
    }
   ],
   "source": [
    "np.arange(1,21)"
   ]
  },
  {
   "cell_type": "code",
   "execution_count": 26,
   "id": "a208d927-2485-4ed6-88ca-ed9988b6bb59",
   "metadata": {},
   "outputs": [
    {
     "data": {
      "text/plain": [
       "array([[ 1,  2,  3,  4],\n",
       "       [ 5,  6,  7,  8],\n",
       "       [ 9, 10, 11, 12],\n",
       "       [13, 14, 15, 16],\n",
       "       [17, 18, 19, 20]])"
      ]
     },
     "execution_count": 26,
     "metadata": {},
     "output_type": "execute_result"
    }
   ],
   "source": [
    "np.arange(1,21).reshape(5,4)"
   ]
  },
  {
   "cell_type": "code",
   "execution_count": 27,
   "id": "7b71aa4f-fae8-45e7-baa2-d0402a6ae98d",
   "metadata": {},
   "outputs": [
    {
     "data": {
      "text/plain": [
       "array([[ 1,  2,  3,  4],\n",
       "       [ 5,  6,  7,  8],\n",
       "       [ 9, 10, 11, 12],\n",
       "       [13, 14, 15, 16],\n",
       "       [17, 18, 19, 20]])"
      ]
     },
     "execution_count": 27,
     "metadata": {},
     "output_type": "execute_result"
    }
   ],
   "source": [
    "np.arange(1,21).reshape(5,4)"
   ]
  },
  {
   "cell_type": "markdown",
   "id": "a609f65c-3752-45b1-9f34-e20b4cf49325",
   "metadata": {},
   "source": [
    "It cannot reshape the array if the size doesnot math while mult row and col"
   ]
  },
  {
   "cell_type": "code",
   "execution_count": 29,
   "id": "c0a5db9f-9129-474d-9a44-d65b641989ef",
   "metadata": {},
   "outputs": [
    {
     "ename": "ValueError",
     "evalue": "cannot reshape array of size 20 into shape (7,2)",
     "output_type": "error",
     "traceback": [
      "\u001b[31m---------------------------------------------------------------------------\u001b[39m",
      "\u001b[31mValueError\u001b[39m                                Traceback (most recent call last)",
      "\u001b[36mCell\u001b[39m\u001b[36m \u001b[39m\u001b[32mIn[29]\u001b[39m\u001b[32m, line 1\u001b[39m\n\u001b[32m----> \u001b[39m\u001b[32m1\u001b[39m \u001b[43mnp\u001b[49m\u001b[43m.\u001b[49m\u001b[43marange\u001b[49m\u001b[43m(\u001b[49m\u001b[32;43m1\u001b[39;49m\u001b[43m,\u001b[49m\u001b[32;43m21\u001b[39;49m\u001b[43m)\u001b[49m\u001b[43m.\u001b[49m\u001b[43mreshape\u001b[49m\u001b[43m(\u001b[49m\u001b[32;43m7\u001b[39;49m\u001b[43m,\u001b[49m\u001b[32;43m2\u001b[39;49m\u001b[43m)\u001b[49m\n",
      "\u001b[31mValueError\u001b[39m: cannot reshape array of size 20 into shape (7,2)"
     ]
    }
   ],
   "source": [
    "np.arange(1,21).reshape(7,2)"
   ]
  },
  {
   "cell_type": "markdown",
   "id": "2d6617e2-e692-4817-bd8b-203fab201f45",
   "metadata": {},
   "source": [
    "Now displaying the large no of array\n"
   ]
  },
  {
   "cell_type": "code",
   "execution_count": 30,
   "id": "e0f60460-27b0-4c0f-89ac-29fa7e099122",
   "metadata": {},
   "outputs": [
    {
     "data": {
      "text/plain": [
       "array([     1,      2,      3, ...,  99998,  99999, 100000],\n",
       "      shape=(100000,))"
      ]
     },
     "execution_count": 30,
     "metadata": {},
     "output_type": "execute_result"
    }
   ],
   "source": [
    "np.arange(1,100001)"
   ]
  },
  {
   "cell_type": "code",
   "execution_count": 31,
   "id": "77f4846d-cbbd-42c4-a377-715b01d0168c",
   "metadata": {},
   "outputs": [
    {
     "data": {
      "text/plain": [
       "array([[     1,      2,      3, ...,  24998,  24999,  25000],\n",
       "       [ 25001,  25002,  25003, ...,  49998,  49999,  50000],\n",
       "       [ 50001,  50002,  50003, ...,  74998,  74999,  75000],\n",
       "       [ 75001,  75002,  75003, ...,  99998,  99999, 100000]],\n",
       "      shape=(4, 25000))"
      ]
     },
     "execution_count": 31,
     "metadata": {},
     "output_type": "execute_result"
    }
   ],
   "source": [
    "np.arange(1,100001).reshape(4,25000)"
   ]
  },
  {
   "cell_type": "code",
   "execution_count": 32,
   "id": "a1a8869c-e4ab-42da-a21a-91d2ac7b91ee",
   "metadata": {},
   "outputs": [
    {
     "data": {
      "text/plain": [
       "array([[     1,      2,      3, ...,    998,    999,   1000],\n",
       "       [  1001,   1002,   1003, ...,   1998,   1999,   2000],\n",
       "       [  2001,   2002,   2003, ...,   2998,   2999,   3000],\n",
       "       ...,\n",
       "       [ 97001,  97002,  97003, ...,  97998,  97999,  98000],\n",
       "       [ 98001,  98002,  98003, ...,  98998,  98999,  99000],\n",
       "       [ 99001,  99002,  99003, ...,  99998,  99999, 100000]],\n",
       "      shape=(100, 1000))"
      ]
     },
     "execution_count": 32,
     "metadata": {},
     "output_type": "execute_result"
    }
   ],
   "source": [
    "np.arange(1,100001).reshape(100,1000)"
   ]
  },
  {
   "cell_type": "markdown",
   "id": "272db3f7-a9c5-48c9-ad39-99bdc4ab9a81",
   "metadata": {},
   "source": [
    "----------- List VS Array performance----------------\n"
   ]
  },
  {
   "cell_type": "code",
   "execution_count": 33,
   "id": "1683ef36-361b-40b4-9eee-18e58ac26b6a",
   "metadata": {},
   "outputs": [],
   "source": [
    "import random"
   ]
  },
  {
   "cell_type": "code",
   "execution_count": 35,
   "id": "1fd2b0c3-a6f2-48bf-ab7f-692f8c283126",
   "metadata": {},
   "outputs": [
    {
     "name": "stdout",
     "output_type": "stream",
     "text": [
      "1.11 s ± 4.65 ms per loop (mean ± std. dev. of 7 runs, 1 loop each)\n"
     ]
    }
   ],
   "source": [
    "%timeit rolls_list = [random.randrange(1,7) for i in range(0, 6000000)]"
   ]
  },
  {
   "cell_type": "code",
   "execution_count": 37,
   "id": "7fccf422-44a5-417b-80d8-bc7eae939aba",
   "metadata": {},
   "outputs": [
    {
     "name": "stdout",
     "output_type": "stream",
     "text": [
      "46 ms ± 14.2 ms per loop (mean ± std. dev. of 7 runs, 10 loops each)\n"
     ]
    }
   ],
   "source": [
    "%timeit rolls_array = np.random.randint(1,7,6000000)"
   ]
  },
  {
   "cell_type": "code",
   "execution_count": 38,
   "id": "ebd656c9-faef-4190-936c-38c55fd568cf",
   "metadata": {},
   "outputs": [
    {
     "name": "stdout",
     "output_type": "stream",
     "text": [
      "389 ms ± 93.4 ms per loop (mean ± std. dev. of 7 runs, 1 loop each)\n"
     ]
    }
   ],
   "source": [
    "%timeit rolls_array = np.random.randint(1,7,60000000)"
   ]
  },
  {
   "cell_type": "raw",
   "id": "aaccd88d-b731-4eff-b7bd-56d2227ac7d8",
   "metadata": {},
   "source": [
    "from here we can observe that numpy is significantly faster than list"
   ]
  },
  {
   "cell_type": "code",
   "execution_count": 40,
   "id": "16f631f2-4f91-489c-a7d1-aba8502de444",
   "metadata": {},
   "outputs": [
    {
     "name": "stdout",
     "output_type": "stream",
     "text": [
      "3.73 s ± 132 ms per loop (mean ± std. dev. of 7 runs, 1 loop each)\n"
     ]
    }
   ],
   "source": [
    "%timeit rolls_array = np.random.randint(1,7,600000000)"
   ]
  },
  {
   "cell_type": "markdown",
   "id": "3aa5ce65-f342-4d06-afdf-d805b17cc9b5",
   "metadata": {},
   "source": [
    "Custiomizing %time it to run desired no of run per each loo[p\n"
   ]
  },
  {
   "cell_type": "code",
   "execution_count": 43,
   "id": "0fc071ad-b0d9-4e37-8489-c023af6739fe",
   "metadata": {},
   "outputs": [
    {
     "name": "stdout",
     "output_type": "stream",
     "text": [
      "82.9 ms ± 762 μs per loop (mean ± std. dev. of 2 runs, 3 loops each)\n"
     ]
    }
   ],
   "source": [
    "%timeit -n3 -r2 rolls_array = np.random.randint(1,7,6000000)\n"
   ]
  },
  {
   "cell_type": "code",
   "execution_count": 45,
   "id": "3223273c-17dc-4c7a-bbc8-25a893cb5a7c",
   "metadata": {},
   "outputs": [
    {
     "name": "stdout",
     "output_type": "stream",
     "text": [
      "320 ms ± 103 ms per loop (mean ± std. dev. of 7 runs, 1 loop each)\n"
     ]
    }
   ],
   "source": [
    "%timeit sum([ x for x in range (1,6000000)])"
   ]
  },
  {
   "cell_type": "code",
   "execution_count": 47,
   "id": "10046372-0cfb-4608-9add-0f93d5b9ada6",
   "metadata": {},
   "outputs": [
    {
     "name": "stdout",
     "output_type": "stream",
     "text": [
      "7.3 ms ± 102 μs per loop (mean ± std. dev. of 7 runs, 100 loops each)\n"
     ]
    }
   ],
   "source": [
    "%timeit np.arange(1,10000000).sum()"
   ]
  },
  {
   "cell_type": "markdown",
   "id": "650e3a83-29b1-4c43-b0de-7a6566429746",
   "metadata": {},
   "source": [
    "_________________ARITHMETIC OPERATION IN ARRAY_____________________\n"
   ]
  },
  {
   "cell_type": "code",
   "execution_count": 57,
   "id": "0101dacc-3d2d-4da8-b29b-06cfbac305c1",
   "metadata": {},
   "outputs": [],
   "source": [
    "numbers = np.arange(1,6)"
   ]
  },
  {
   "cell_type": "code",
   "execution_count": 52,
   "id": "1cfc5cff-f919-4526-8a51-d252cf99443b",
   "metadata": {},
   "outputs": [
    {
     "data": {
      "text/plain": [
       "2"
      ]
     },
     "execution_count": 52,
     "metadata": {},
     "output_type": "execute_result"
    }
   ],
   "source": [
    "numbers"
   ]
  },
  {
   "cell_type": "code",
   "execution_count": 50,
   "id": "2f1f393f-1979-4289-8ac0-1fcbdb051371",
   "metadata": {},
   "outputs": [],
   "source": [
    "numbers = 2"
   ]
  },
  {
   "cell_type": "code",
   "execution_count": 51,
   "id": "5b82fb4b-f9b6-4727-a96c-0cf43c01982c",
   "metadata": {},
   "outputs": [
    {
     "data": {
      "text/plain": [
       "2"
      ]
     },
     "execution_count": 51,
     "metadata": {},
     "output_type": "execute_result"
    }
   ],
   "source": [
    "numbers"
   ]
  },
  {
   "cell_type": "code",
   "execution_count": 55,
   "id": "a38c29bf-53e9-4573-8bb6-6ede8ca35fe2",
   "metadata": {},
   "outputs": [
    {
     "data": {
      "text/plain": [
       "array([1, 2, 3, 4, 5])"
      ]
     },
     "execution_count": 55,
     "metadata": {},
     "output_type": "execute_result"
    }
   ],
   "source": [
    "numbers "
   ]
  },
  {
   "cell_type": "code",
   "execution_count": 59,
   "id": "dfce8957-ab3f-49cf-b96b-94ec330b9b16",
   "metadata": {},
   "outputs": [
    {
     "data": {
      "text/plain": [
       "array([ 2,  4,  6,  8, 10])"
      ]
     },
     "execution_count": 59,
     "metadata": {},
     "output_type": "execute_result"
    }
   ],
   "source": [
    "numbers * 2"
   ]
  },
  {
   "cell_type": "code",
   "execution_count": 60,
   "id": "2687fd9d-1184-4ebc-9762-a0a87bb08ed0",
   "metadata": {},
   "outputs": [
    {
     "data": {
      "text/plain": [
       "array([  1,   8,  27,  64, 125])"
      ]
     },
     "execution_count": 60,
     "metadata": {},
     "output_type": "execute_result"
    }
   ],
   "source": [
    "numbers **3"
   ]
  },
  {
   "cell_type": "code",
   "execution_count": 61,
   "id": "d3d3bad3-b504-43d4-a0c4-33a67f8906ba",
   "metadata": {},
   "outputs": [
    {
     "data": {
      "text/plain": [
       "array([1, 2, 3, 4, 5])"
      ]
     },
     "execution_count": 61,
     "metadata": {},
     "output_type": "execute_result"
    }
   ],
   "source": [
    "numbers"
   ]
  },
  {
   "cell_type": "code",
   "execution_count": 62,
   "id": "02c08cb7-fd9b-439b-97d6-4de53a23c644",
   "metadata": {},
   "outputs": [],
   "source": [
    "numbers += 10"
   ]
  },
  {
   "cell_type": "code",
   "execution_count": 63,
   "id": "b194518f-9bdb-46c0-8daa-dee2869b5e4d",
   "metadata": {},
   "outputs": [
    {
     "data": {
      "text/plain": [
       "array([11, 12, 13, 14, 15])"
      ]
     },
     "execution_count": 63,
     "metadata": {},
     "output_type": "execute_result"
    }
   ],
   "source": [
    "numbers"
   ]
  },
  {
   "cell_type": "code",
   "execution_count": 75,
   "id": "4955ccc0-ef15-479a-b26d-5f3455011a7e",
   "metadata": {},
   "outputs": [],
   "source": [
    "numbers2 = np.linspace(1.1, 5.5, 5) "
   ]
  },
  {
   "cell_type": "code",
   "execution_count": 76,
   "id": "97e002ef-7fa4-41f8-b1b2-7a0581597162",
   "metadata": {},
   "outputs": [
    {
     "data": {
      "text/plain": [
       "array([1.1, 2.2, 3.3, 4.4, 5.5])"
      ]
     },
     "execution_count": 76,
     "metadata": {},
     "output_type": "execute_result"
    }
   ],
   "source": [
    "numbers2"
   ]
  },
  {
   "cell_type": "code",
   "execution_count": 77,
   "id": "a28e5a91-0d63-48ef-842b-45d468775071",
   "metadata": {},
   "outputs": [
    {
     "data": {
      "text/plain": [
       "array([12.1, 26.4, 42.9, 61.6, 82.5])"
      ]
     },
     "execution_count": 77,
     "metadata": {},
     "output_type": "execute_result"
    }
   ],
   "source": [
    "numbers * numbers2"
   ]
  },
  {
   "cell_type": "code",
   "execution_count": 78,
   "id": "5d0fd32a-30ee-4445-a3f4-4c5c4ec86c57",
   "metadata": {},
   "outputs": [
    {
     "data": {
      "text/plain": [
       "array([11, 12, 13, 14, 15])"
      ]
     },
     "execution_count": 78,
     "metadata": {},
     "output_type": "execute_result"
    }
   ],
   "source": [
    "numbers"
   ]
  },
  {
   "cell_type": "code",
   "execution_count": 79,
   "id": "05e300ca-05ba-4234-b9eb-0e6258fbc076",
   "metadata": {},
   "outputs": [
    {
     "data": {
      "text/plain": [
       "array([False, False,  True,  True,  True])"
      ]
     },
     "execution_count": 79,
     "metadata": {},
     "output_type": "execute_result"
    }
   ],
   "source": [
    "numbers >= 13"
   ]
  },
  {
   "cell_type": "code",
   "execution_count": 82,
   "id": "6124835a-471f-4402-b90d-bb2854be1a1b",
   "metadata": {},
   "outputs": [
    {
     "data": {
      "text/plain": [
       "array([1.1, 2.2, 3.3, 4.4, 5.5])"
      ]
     },
     "execution_count": 82,
     "metadata": {},
     "output_type": "execute_result"
    }
   ],
   "source": [
    "numbers2"
   ]
  },
  {
   "cell_type": "code",
   "execution_count": 83,
   "id": "203ee5a9-6619-4f3c-97fc-7ccb845611f0",
   "metadata": {},
   "outputs": [
    {
     "data": {
      "text/plain": [
       "array([ True,  True,  True,  True,  True])"
      ]
     },
     "execution_count": 83,
     "metadata": {},
     "output_type": "execute_result"
    }
   ],
   "source": [
    "numbers2 < numbers"
   ]
  },
  {
   "cell_type": "code",
   "execution_count": 84,
   "id": "60c5de4e-4828-4ba9-b277-33ab70c11726",
   "metadata": {},
   "outputs": [
    {
     "data": {
      "text/plain": [
       "array([False, False, False, False, False])"
      ]
     },
     "execution_count": 84,
     "metadata": {},
     "output_type": "execute_result"
    }
   ],
   "source": [
    "numbers == numbers2"
   ]
  },
  {
   "cell_type": "code",
   "execution_count": 85,
   "id": "92e663df-7b55-4820-b3ef-9ea990629776",
   "metadata": {},
   "outputs": [
    {
     "data": {
      "text/plain": [
       "array([ True,  True,  True,  True,  True])"
      ]
     },
     "execution_count": 85,
     "metadata": {},
     "output_type": "execute_result"
    }
   ],
   "source": [
    "numbers == numbers"
   ]
  },
  {
   "cell_type": "code",
   "execution_count": 86,
   "id": "99e3da03-8974-4d5b-9f46-9a8769046920",
   "metadata": {},
   "outputs": [],
   "source": [
    "grades = np.array([\n",
    "    [85, 90, 78],\n",
    "    [92, 88, 79],\n",
    "    [75, 80, 85],\n",
    "    [89, 94, 91]\n",
    "])"
   ]
  },
  {
   "cell_type": "code",
   "execution_count": 87,
   "id": "f0ef505e-83cc-4e4d-a6bc-6d672485eeab",
   "metadata": {},
   "outputs": [
    {
     "data": {
      "text/plain": [
       "array([[85, 90, 78],\n",
       "       [92, 88, 79],\n",
       "       [75, 80, 85],\n",
       "       [89, 94, 91]])"
      ]
     },
     "execution_count": 87,
     "metadata": {},
     "output_type": "execute_result"
    }
   ],
   "source": [
    "grades"
   ]
  },
  {
   "cell_type": "code",
   "execution_count": 88,
   "id": "edd170f5-2a5c-465c-a4a3-6de67eaa961d",
   "metadata": {},
   "outputs": [
    {
     "data": {
      "text/plain": [
       "np.int64(1026)"
      ]
     },
     "execution_count": 88,
     "metadata": {},
     "output_type": "execute_result"
    }
   ],
   "source": [
    "grades.sum()"
   ]
  },
  {
   "cell_type": "code",
   "execution_count": 89,
   "id": "181c5d1e-5c30-4ccb-baa8-16a24b3751cd",
   "metadata": {},
   "outputs": [
    {
     "data": {
      "text/plain": [
       "np.int64(75)"
      ]
     },
     "execution_count": 89,
     "metadata": {},
     "output_type": "execute_result"
    }
   ],
   "source": [
    "grades.min()\n"
   ]
  },
  {
   "cell_type": "code",
   "execution_count": 91,
   "id": "02b5eada-5aab-44fb-b49d-d674a0cdeae1",
   "metadata": {},
   "outputs": [
    {
     "data": {
      "text/plain": [
       "np.int64(94)"
      ]
     },
     "execution_count": 91,
     "metadata": {},
     "output_type": "execute_result"
    }
   ],
   "source": [
    "grades.max()"
   ]
  },
  {
   "cell_type": "code",
   "execution_count": 92,
   "id": "dec66da4-f836-4739-ae62-351e35530fe8",
   "metadata": {},
   "outputs": [
    {
     "data": {
      "text/plain": [
       "np.float64(85.5)"
      ]
     },
     "execution_count": 92,
     "metadata": {},
     "output_type": "execute_result"
    }
   ],
   "source": [
    "grades.mean()"
   ]
  },
  {
   "cell_type": "code",
   "execution_count": 93,
   "id": "eb176e6b-b80d-44dd-a6ec-c4e21e7e6117",
   "metadata": {},
   "outputs": [
    {
     "data": {
      "text/plain": [
       "np.float64(5.937171043518958)"
      ]
     },
     "execution_count": 93,
     "metadata": {},
     "output_type": "execute_result"
    }
   ],
   "source": [
    "grades.std()"
   ]
  },
  {
   "cell_type": "code",
   "execution_count": 94,
   "id": "6375f286-1856-48d6-b80d-29f9ed3c8015",
   "metadata": {},
   "outputs": [
    {
     "data": {
      "text/plain": [
       "np.float64(35.25)"
      ]
     },
     "execution_count": 94,
     "metadata": {},
     "output_type": "execute_result"
    }
   ],
   "source": [
    "grades.var()"
   ]
  },
  {
   "cell_type": "code",
   "execution_count": 95,
   "id": "a32672d4-9438-4780-ad3d-76389c243fe4",
   "metadata": {},
   "outputs": [
    {
     "data": {
      "text/plain": [
       "array([85.25, 88.  , 83.25])"
      ]
     },
     "execution_count": 95,
     "metadata": {},
     "output_type": "execute_result"
    }
   ],
   "source": [
    "grades.mean(axis = 0)"
   ]
  },
  {
   "cell_type": "code",
   "execution_count": 96,
   "id": "a745f6ee-eea9-46c9-80c0-533c25a55522",
   "metadata": {},
   "outputs": [
    {
     "data": {
      "text/plain": [
       "array([84.33333333, 86.33333333, 80.        , 91.33333333])"
      ]
     },
     "execution_count": 96,
     "metadata": {},
     "output_type": "execute_result"
    }
   ],
   "source": [
    "grades.mean(axis = 1)"
   ]
  },
  {
   "cell_type": "code",
   "execution_count": 97,
   "id": "7c5682d8-b4fa-48f9-91ab-e5acf941dd11",
   "metadata": {},
   "outputs": [
    {
     "ename": "SyntaxError",
     "evalue": "invalid syntax (3522848920.py, line 1)",
     "output_type": "error",
     "traceback": [
      "  \u001b[36mCell\u001b[39m\u001b[36m \u001b[39m\u001b[32mIn[97]\u001b[39m\u001b[32m, line 1\u001b[39m\n\u001b[31m    \u001b[39m\u001b[31mimprt numpy as np\u001b[39m\n          ^\n\u001b[31mSyntaxError\u001b[39m\u001b[31m:\u001b[39m invalid syntax\n"
     ]
    }
   ],
   "source": [
    "imprt numpy as np"
   ]
  },
  {
   "cell_type": "code",
   "execution_count": 114,
   "id": "9bc25ac8-c455-4145-b71f-7305b89d911e",
   "metadata": {},
   "outputs": [],
   "source": [
    "import numpy as np\n",
    "\n",
    "grades =np.random.randint(60,101,12).reshape(3,4)"
   ]
  },
  {
   "cell_type": "code",
   "execution_count": 115,
   "id": "aa5ad465-13db-4277-aede-56b4c5fef1cc",
   "metadata": {},
   "outputs": [
    {
     "data": {
      "text/plain": [
       "array([[77, 70, 91, 88],\n",
       "       [78, 74, 64, 79],\n",
       "       [99, 76, 92, 73]])"
      ]
     },
     "execution_count": 115,
     "metadata": {},
     "output_type": "execute_result"
    }
   ],
   "source": [
    "grades"
   ]
  },
  {
   "cell_type": "code",
   "execution_count": 116,
   "id": "089d275e-9a35-452c-a7ff-e14d44345058",
   "metadata": {},
   "outputs": [
    {
     "data": {
      "text/plain": [
       "array([[77, 70, 91, 88],\n",
       "       [78, 74, 64, 79],\n",
       "       [99, 76, 92, 73]])"
      ]
     },
     "execution_count": 116,
     "metadata": {},
     "output_type": "execute_result"
    }
   ],
   "source": [
    "grades.reshape(3,4)"
   ]
  },
  {
   "cell_type": "code",
   "execution_count": 117,
   "id": "fd5bc5af-b870-41b9-8977-d8862728d66d",
   "metadata": {},
   "outputs": [
    {
     "data": {
      "text/plain": [
       "np.float64(80.08333333333333)"
      ]
     },
     "execution_count": 117,
     "metadata": {},
     "output_type": "execute_result"
    }
   ],
   "source": [
    "grades.mean()"
   ]
  },
  {
   "cell_type": "code",
   "execution_count": 118,
   "id": "a545340c-4ede-4d27-b6b1-dc42b1072d7f",
   "metadata": {},
   "outputs": [
    {
     "data": {
      "text/plain": [
       "array([84.66666667, 73.33333333, 82.33333333, 80.        ])"
      ]
     },
     "execution_count": 118,
     "metadata": {},
     "output_type": "execute_result"
    }
   ],
   "source": [
    "grades.mean(axis = 0)\n"
   ]
  },
  {
   "cell_type": "code",
   "execution_count": 120,
   "id": "1b13f989-8657-4a52-9576-ba20258d5e35",
   "metadata": {},
   "outputs": [
    {
     "data": {
      "text/plain": [
       "array([81.5 , 73.75, 85.  ])"
      ]
     },
     "execution_count": 120,
     "metadata": {},
     "output_type": "execute_result"
    }
   ],
   "source": [
    "grades.mean(axis = 1)"
   ]
  },
  {
   "cell_type": "code",
   "execution_count": 121,
   "id": "579ef139-ebcb-4d3f-a778-623d9a765107",
   "metadata": {},
   "outputs": [],
   "source": [
    "numbers = np.array([1,4,9,16,25,36])\n"
   ]
  },
  {
   "cell_type": "code",
   "execution_count": 122,
   "id": "d4726a7a-81a2-4966-8451-c25552e5c5ba",
   "metadata": {},
   "outputs": [
    {
     "data": {
      "text/plain": [
       "array([ 1,  4,  9, 16, 25, 36])"
      ]
     },
     "execution_count": 122,
     "metadata": {},
     "output_type": "execute_result"
    }
   ],
   "source": [
    "numbers"
   ]
  },
  {
   "cell_type": "code",
   "execution_count": 123,
   "id": "17cf7da1-6951-4aeb-932c-59c8303f51de",
   "metadata": {},
   "outputs": [
    {
     "data": {
      "text/plain": [
       "array([1., 2., 3., 4., 5., 6.])"
      ]
     },
     "execution_count": 123,
     "metadata": {},
     "output_type": "execute_result"
    }
   ],
   "source": [
    "np.sqrt(numbers)"
   ]
  },
  {
   "cell_type": "code",
   "execution_count": 124,
   "id": "779ecfbd-de53-4243-ac8e-decc961de47f",
   "metadata": {},
   "outputs": [
    {
     "data": {
      "text/plain": [
       "array([ 1,  4,  9, 16, 25, 36])"
      ]
     },
     "execution_count": 124,
     "metadata": {},
     "output_type": "execute_result"
    }
   ],
   "source": [
    "numbers"
   ]
  },
  {
   "cell_type": "code",
   "execution_count": 125,
   "id": "00e8a1db-dfb6-4e16-9f8b-9e7811b8059b",
   "metadata": {},
   "outputs": [],
   "source": [
    "numbers2 = np.arange(1,7) * 10"
   ]
  },
  {
   "cell_type": "code",
   "execution_count": 126,
   "id": "2305b5b7-e477-4505-9cea-a62a360c980e",
   "metadata": {},
   "outputs": [
    {
     "data": {
      "text/plain": [
       "array([10, 20, 30, 40, 50, 60])"
      ]
     },
     "execution_count": 126,
     "metadata": {},
     "output_type": "execute_result"
    }
   ],
   "source": [
    "numbers2"
   ]
  },
  {
   "cell_type": "code",
   "execution_count": 128,
   "id": "2b6333bf-892a-4645-9074-4ea693416bc2",
   "metadata": {},
   "outputs": [
    {
     "data": {
      "text/plain": [
       "array([11, 24, 39, 56, 75, 96])"
      ]
     },
     "execution_count": 128,
     "metadata": {},
     "output_type": "execute_result"
    }
   ],
   "source": [
    "np.add(numbers,numbers2)"
   ]
  },
  {
   "cell_type": "code",
   "execution_count": 130,
   "id": "3578e280-7474-4cb1-920d-ae73cd54f8e5",
   "metadata": {},
   "outputs": [
    {
     "data": {
      "text/plain": [
       "array([ 50, 100, 150, 200, 250, 300])"
      ]
     },
     "execution_count": 130,
     "metadata": {},
     "output_type": "execute_result"
    }
   ],
   "source": [
    "\n",
    "np.multiply(numbers2,5)"
   ]
  },
  {
   "cell_type": "code",
   "execution_count": 131,
   "id": "914e6a3e-2cfe-422f-8385-bf934f7adce4",
   "metadata": {},
   "outputs": [
    {
     "data": {
      "text/plain": [
       "array([10, 20, 30, 40, 50, 60])"
      ]
     },
     "execution_count": 131,
     "metadata": {},
     "output_type": "execute_result"
    }
   ],
   "source": [
    "numbers2\n",
    "\n"
   ]
  },
  {
   "cell_type": "code",
   "execution_count": 132,
   "id": "a6c41f5f-716f-464e-b479-1ad07f4cf7d4",
   "metadata": {},
   "outputs": [
    {
     "data": {
      "text/plain": [
       "array([[10, 20, 30],\n",
       "       [40, 50, 60]])"
      ]
     },
     "execution_count": 132,
     "metadata": {},
     "output_type": "execute_result"
    }
   ],
   "source": [
    "numbers2.reshape(2,3)"
   ]
  },
  {
   "cell_type": "code",
   "execution_count": 135,
   "id": "05e8bb19-a674-42d2-a39e-a46bcd9638ed",
   "metadata": {},
   "outputs": [
    {
     "name": "stdout",
     "output_type": "stream",
     "text": [
      "[[90 94 87 61]\n",
      " [61 60 87 80]\n",
      " [80 96 65 81]]\n"
     ]
    }
   ],
   "source": [
    "import numpy as np\n",
    "import random\n",
    "\n",
    "grades = np.array([random.randrange(60, 101) for i in range(12)]).reshape(3, 4)\n",
    "print(grades)\n"
   ]
  },
  {
   "cell_type": "code",
   "execution_count": 136,
   "id": "24d86f4c-fe98-4a24-b38d-cd5306502ce8",
   "metadata": {},
   "outputs": [],
   "source": [
    "numbers3 = numbers2.reshape(2,3)"
   ]
  },
  {
   "cell_type": "code",
   "execution_count": 137,
   "id": "73733f05-79af-4abe-9218-dbc087c6e5ef",
   "metadata": {},
   "outputs": [
    {
     "data": {
      "text/plain": [
       "array([[10, 20, 30],\n",
       "       [40, 50, 60]])"
      ]
     },
     "execution_count": 137,
     "metadata": {},
     "output_type": "execute_result"
    }
   ],
   "source": [
    "numbers3"
   ]
  },
  {
   "cell_type": "code",
   "execution_count": 139,
   "id": "962e59a5-09ba-41ae-81d3-06d1281b9231",
   "metadata": {},
   "outputs": [],
   "source": [
    "numbers4 = np.array([2,4,6])"
   ]
  },
  {
   "cell_type": "code",
   "execution_count": 140,
   "id": "289edb67-cd95-4805-b507-ea5ddf375f83",
   "metadata": {},
   "outputs": [
    {
     "data": {
      "text/plain": [
       "array([[ 20,  80, 180],\n",
       "       [ 80, 200, 360]])"
      ]
     },
     "execution_count": 140,
     "metadata": {},
     "output_type": "execute_result"
    }
   ],
   "source": [
    "np.multiply(numbers3,numbers4)"
   ]
  },
  {
   "cell_type": "code",
   "execution_count": 141,
   "id": "fd748625-5ea0-4700-acba-105e0cc6654b",
   "metadata": {},
   "outputs": [
    {
     "data": {
      "text/plain": [
       "array([ 1,  4,  9, 16, 25, 36])"
      ]
     },
     "execution_count": 141,
     "metadata": {},
     "output_type": "execute_result"
    }
   ],
   "source": [
    "numbers\n"
   ]
  },
  {
   "cell_type": "code",
   "execution_count": 142,
   "id": "8b6b4366-793e-43bb-8e9a-b97de54b5562",
   "metadata": {},
   "outputs": [
    {
     "data": {
      "text/plain": [
       "array([    1,    64,   729,  4096, 15625, 46656])"
      ]
     },
     "execution_count": 142,
     "metadata": {},
     "output_type": "execute_result"
    }
   ],
   "source": [
    "np.power(numbers,3)"
   ]
  },
  {
   "cell_type": "code",
   "execution_count": 143,
   "id": "9d8b3ea8-c56b-49ad-9e3e-7641524d23c9",
   "metadata": {},
   "outputs": [
    {
     "data": {
      "text/plain": [
       "array([[90, 94, 87, 61],\n",
       "       [61, 60, 87, 80],\n",
       "       [80, 96, 65, 81]])"
      ]
     },
     "execution_count": 143,
     "metadata": {},
     "output_type": "execute_result"
    }
   ],
   "source": [
    "grades"
   ]
  },
  {
   "cell_type": "code",
   "execution_count": 144,
   "id": "412f89e0-22c3-4843-9dde-5279474776b4",
   "metadata": {},
   "outputs": [
    {
     "data": {
      "text/plain": [
       "np.int64(94)"
      ]
     },
     "execution_count": 144,
     "metadata": {},
     "output_type": "execute_result"
    }
   ],
   "source": [
    "grades[0,1]"
   ]
  },
  {
   "cell_type": "code",
   "execution_count": 145,
   "id": "9d914a2f-1430-4d98-b92b-6fdb313b299e",
   "metadata": {},
   "outputs": [
    {
     "data": {
      "text/plain": [
       "array([61, 60, 87, 80])"
      ]
     },
     "execution_count": 145,
     "metadata": {},
     "output_type": "execute_result"
    }
   ],
   "source": [
    "grades[1]"
   ]
  },
  {
   "cell_type": "code",
   "execution_count": 146,
   "id": "72c7607d-4d64-4486-9481-6ffc9ddf4f86",
   "metadata": {},
   "outputs": [
    {
     "data": {
      "text/plain": [
       "array([[90, 94, 87, 61],\n",
       "       [61, 60, 87, 80]])"
      ]
     },
     "execution_count": 146,
     "metadata": {},
     "output_type": "execute_result"
    }
   ],
   "source": [
    "grades[0:2]"
   ]
  },
  {
   "cell_type": "code",
   "execution_count": 147,
   "id": "dbf07e2b-b49c-47ac-bcd4-b102ef61317b",
   "metadata": {},
   "outputs": [
    {
     "data": {
      "text/plain": [
       "np.int64(80)"
      ]
     },
     "execution_count": 147,
     "metadata": {},
     "output_type": "execute_result"
    }
   ],
   "source": [
    "grades[1,3]"
   ]
  },
  {
   "cell_type": "code",
   "execution_count": 148,
   "id": "6bc9dc87-8dd0-42f2-8581-86cd98a1ba95",
   "metadata": {},
   "outputs": [
    {
     "data": {
      "text/plain": [
       "array([[61, 60, 87, 80],\n",
       "       [80, 96, 65, 81]])"
      ]
     },
     "execution_count": 148,
     "metadata": {},
     "output_type": "execute_result"
    }
   ],
   "source": [
    "grades[1:3]"
   ]
  },
  {
   "cell_type": "code",
   "execution_count": 149,
   "id": "bf2a6dcf-fa51-4d20-94e1-ce31923ad19c",
   "metadata": {},
   "outputs": [
    {
     "data": {
      "text/plain": [
       "array([90, 61, 80])"
      ]
     },
     "execution_count": 149,
     "metadata": {},
     "output_type": "execute_result"
    }
   ],
   "source": [
    "grades[:,0]"
   ]
  },
  {
   "cell_type": "code",
   "execution_count": 150,
   "id": "e781e374-e2e4-4069-8656-eafc1909ff44",
   "metadata": {},
   "outputs": [
    {
     "data": {
      "text/plain": [
       "array([], shape=(0, 4), dtype=int64)"
      ]
     },
     "execution_count": 150,
     "metadata": {},
     "output_type": "execute_result"
    }
   ],
   "source": [
    "grades[:0]"
   ]
  },
  {
   "cell_type": "code",
   "execution_count": 151,
   "id": "4c9917ae-2269-4aba-862d-8f3a58fe05dc",
   "metadata": {},
   "outputs": [
    {
     "data": {
      "text/plain": [
       "array([[94, 61],\n",
       "       [60, 80],\n",
       "       [96, 81]])"
      ]
     },
     "execution_count": 151,
     "metadata": {},
     "output_type": "execute_result"
    }
   ],
   "source": [
    "grades[:,(1,3)]"
   ]
  },
  {
   "cell_type": "code",
   "execution_count": 153,
   "id": "b57fd5e0-1acf-4326-a457-7577767c8497",
   "metadata": {},
   "outputs": [
    {
     "data": {
      "text/plain": [
       "array([[94, 87],\n",
       "       [60, 87],\n",
       "       [96, 65]])"
      ]
     },
     "execution_count": 153,
     "metadata": {},
     "output_type": "execute_result"
    }
   ],
   "source": [
    "grades[:,1:3]\n"
   ]
  },
  {
   "cell_type": "markdown",
   "id": "41d2ca30-a745-439d-bdfa-c840176ad19e",
   "metadata": {},
   "source": [
    "___________________SHALLOW COPIES________________________\n"
   ]
  },
  {
   "cell_type": "code",
   "execution_count": 154,
   "id": "e743da50-bafa-413e-abb6-ff8eed9d791c",
   "metadata": {},
   "outputs": [
    {
     "data": {
      "text/plain": [
       "array([ 1,  4,  9, 16, 25, 36])"
      ]
     },
     "execution_count": 154,
     "metadata": {},
     "output_type": "execute_result"
    }
   ],
   "source": [
    "numbers"
   ]
  },
  {
   "cell_type": "code",
   "execution_count": 155,
   "id": "d931e554-2e62-423e-89e6-adb0700e1751",
   "metadata": {},
   "outputs": [],
   "source": [
    "numbers2 = numbers.view()"
   ]
  },
  {
   "cell_type": "code",
   "execution_count": 156,
   "id": "680b0157-1448-4a12-a3cf-ed5114323968",
   "metadata": {},
   "outputs": [
    {
     "data": {
      "text/plain": [
       "array([ 1,  4,  9, 16, 25, 36])"
      ]
     },
     "execution_count": 156,
     "metadata": {},
     "output_type": "execute_result"
    }
   ],
   "source": [
    "numbers2"
   ]
  },
  {
   "cell_type": "code",
   "execution_count": 157,
   "id": "5d249dba-3b79-493d-9cdc-12e7633af6c6",
   "metadata": {},
   "outputs": [
    {
     "data": {
      "text/plain": [
       "140193304641232"
      ]
     },
     "execution_count": 157,
     "metadata": {},
     "output_type": "execute_result"
    }
   ],
   "source": [
    "id(numbers)"
   ]
  },
  {
   "cell_type": "code",
   "execution_count": 158,
   "id": "53324b85-3dba-45e2-806b-3c9e03817268",
   "metadata": {},
   "outputs": [
    {
     "data": {
      "text/plain": [
       "140193167168624"
      ]
     },
     "execution_count": 158,
     "metadata": {},
     "output_type": "execute_result"
    }
   ],
   "source": [
    "id(numbers2)"
   ]
  },
  {
   "cell_type": "code",
   "execution_count": 159,
   "id": "e143cbae-bfda-4264-9032-e43d5528087c",
   "metadata": {},
   "outputs": [
    {
     "ename": "TypeError",
     "evalue": "order must be str, not numpy.ndarray",
     "output_type": "error",
     "traceback": [
      "\u001b[31m---------------------------------------------------------------------------\u001b[39m",
      "\u001b[31mTypeError\u001b[39m                                 Traceback (most recent call last)",
      "\u001b[36mCell\u001b[39m\u001b[36m \u001b[39m\u001b[32mIn[159]\u001b[39m\u001b[32m, line 1\u001b[39m\n\u001b[32m----> \u001b[39m\u001b[32m1\u001b[39m \u001b[43mnumbers2\u001b[49m\u001b[43m.\u001b[49m\u001b[43mcopy\u001b[49m\u001b[43m(\u001b[49m\u001b[43mnumbers3\u001b[49m\u001b[43m)\u001b[49m\n",
      "\u001b[31mTypeError\u001b[39m: order must be str, not numpy.ndarray"
     ]
    }
   ],
   "source": [
    "numbers2.copy(numbers3)"
   ]
  },
  {
   "cell_type": "code",
   "execution_count": 160,
   "id": "0ed5d347-460a-435b-a269-8f35f36f4743",
   "metadata": {},
   "outputs": [],
   "source": [
    "numbers3 = numbers2.copy()"
   ]
  },
  {
   "cell_type": "code",
   "execution_count": 161,
   "id": "c3af6cec-1454-4c2e-96f8-abada53b09b1",
   "metadata": {},
   "outputs": [
    {
     "data": {
      "text/plain": [
       "array([ 1,  4,  9, 16, 25, 36])"
      ]
     },
     "execution_count": 161,
     "metadata": {},
     "output_type": "execute_result"
    }
   ],
   "source": [
    "numbers3\n"
   ]
  },
  {
   "cell_type": "code",
   "execution_count": 162,
   "id": "649a9e53-7e35-41a1-a0a0-dd730e0724fe",
   "metadata": {},
   "outputs": [
    {
     "data": {
      "text/plain": [
       "140193167168720"
      ]
     },
     "execution_count": 162,
     "metadata": {},
     "output_type": "execute_result"
    }
   ],
   "source": [
    "id(numbers3)"
   ]
  },
  {
   "cell_type": "code",
   "execution_count": 165,
   "id": "d96be43f-cd35-4ffb-bf7d-8e89940aaeea",
   "metadata": {},
   "outputs": [],
   "source": [
    "numbers[1] *= 10"
   ]
  },
  {
   "cell_type": "code",
   "execution_count": 166,
   "id": "b0cb557b-e52f-4b41-aa59-ae3eec0ac7d1",
   "metadata": {},
   "outputs": [
    {
     "data": {
      "text/plain": [
       "array([ 1, 40,  9, 16, 25, 36])"
      ]
     },
     "execution_count": 166,
     "metadata": {},
     "output_type": "execute_result"
    }
   ],
   "source": [
    "numbers"
   ]
  },
  {
   "cell_type": "code",
   "execution_count": 167,
   "id": "0ceb36f6-c869-48eb-9d04-ddc3136de2f6",
   "metadata": {},
   "outputs": [
    {
     "data": {
      "text/plain": [
       "array([ 1, 40,  9, 16, 25, 36])"
      ]
     },
     "execution_count": 167,
     "metadata": {},
     "output_type": "execute_result"
    }
   ],
   "source": [
    "numbers2"
   ]
  },
  {
   "cell_type": "code",
   "execution_count": 168,
   "id": "dd2e982d-8311-449c-af8c-9098fd5b4a0a",
   "metadata": {},
   "outputs": [],
   "source": [
    "numbers[1] /= 10"
   ]
  },
  {
   "cell_type": "code",
   "execution_count": 169,
   "id": "43a7a049-afb9-47bd-a608-1b91cf44a11a",
   "metadata": {},
   "outputs": [
    {
     "data": {
      "text/plain": [
       "array([ 1,  4,  9, 16, 25, 36])"
      ]
     },
     "execution_count": 169,
     "metadata": {},
     "output_type": "execute_result"
    }
   ],
   "source": [
    "numbers"
   ]
  },
  {
   "cell_type": "code",
   "execution_count": 170,
   "id": "b8a57866-5021-4817-81f9-dcb4ca089faa",
   "metadata": {},
   "outputs": [
    {
     "data": {
      "text/plain": [
       "array([ 1,  4,  9, 16, 25, 36])"
      ]
     },
     "execution_count": 170,
     "metadata": {},
     "output_type": "execute_result"
    }
   ],
   "source": [
    "numbers2"
   ]
  },
  {
   "cell_type": "markdown",
   "id": "a8be6351-a8a1-45e9-acdf-3cd4bfa08df0",
   "metadata": {},
   "source": [
    "____________SLICING VIEW_________________"
   ]
  },
  {
   "cell_type": "code",
   "execution_count": 171,
   "id": "889014a6-4a2c-4711-943f-e27000031417",
   "metadata": {},
   "outputs": [],
   "source": [
    "numbers2 = numbers[0:3]\n"
   ]
  },
  {
   "cell_type": "code",
   "execution_count": 172,
   "id": "2f99cf60-eb25-4e8b-b07a-b86db31efb8e",
   "metadata": {},
   "outputs": [
    {
     "data": {
      "text/plain": [
       "array([1, 4, 9])"
      ]
     },
     "execution_count": 172,
     "metadata": {},
     "output_type": "execute_result"
    }
   ],
   "source": [
    "numbers2"
   ]
  },
  {
   "cell_type": "code",
   "execution_count": 174,
   "id": "f8852143-3e5b-4301-bc97-930c90a2cad5",
   "metadata": {},
   "outputs": [
    {
     "data": {
      "text/plain": [
       "140193304641232"
      ]
     },
     "execution_count": 174,
     "metadata": {},
     "output_type": "execute_result"
    }
   ],
   "source": [
    "id(numbers)\n"
   ]
  },
  {
   "cell_type": "code",
   "execution_count": 175,
   "id": "4ce2b7c5-c6d6-4f30-824d-ca194bbf61c6",
   "metadata": {},
   "outputs": [
    {
     "data": {
      "text/plain": [
       "140193167169776"
      ]
     },
     "execution_count": 175,
     "metadata": {},
     "output_type": "execute_result"
    }
   ],
   "source": [
    "id(numbers2)"
   ]
  },
  {
   "cell_type": "code",
   "execution_count": 176,
   "id": "371eebd5-837a-4bf7-80d1-c111efd76991",
   "metadata": {},
   "outputs": [
    {
     "data": {
      "text/plain": [
       "array([ 1,  4,  9, 16, 25, 36])"
      ]
     },
     "execution_count": 176,
     "metadata": {},
     "output_type": "execute_result"
    }
   ],
   "source": [
    "numbers"
   ]
  },
  {
   "cell_type": "code",
   "execution_count": 177,
   "id": "045ff5d8-21c9-478e-88e5-2c98e39d9fdc",
   "metadata": {},
   "outputs": [],
   "source": [
    "numbers[1] *=10"
   ]
  },
  {
   "cell_type": "code",
   "execution_count": 178,
   "id": "8527dfbb-7516-42d0-a34d-9a2fb25c883d",
   "metadata": {},
   "outputs": [
    {
     "data": {
      "text/plain": [
       "array([ 1, 40,  9])"
      ]
     },
     "execution_count": 178,
     "metadata": {},
     "output_type": "execute_result"
    }
   ],
   "source": [
    "numbers2"
   ]
  },
  {
   "cell_type": "code",
   "execution_count": 179,
   "id": "0e6d65ae-f805-44fb-89de-19caadc59bf0",
   "metadata": {},
   "outputs": [
    {
     "data": {
      "text/plain": [
       "array([[90, 94, 87, 61],\n",
       "       [61, 60, 87, 80],\n",
       "       [80, 96, 65, 81]])"
      ]
     },
     "execution_count": 179,
     "metadata": {},
     "output_type": "execute_result"
    }
   ],
   "source": [
    "grades"
   ]
  },
  {
   "cell_type": "code",
   "execution_count": 183,
   "id": "ce985dff-07af-4215-89aa-5f3f27fa6f3f",
   "metadata": {},
   "outputs": [
    {
     "ename": "SyntaxError",
     "evalue": "invalid syntax (2793424820.py, line 1)",
     "output_type": "error",
     "traceback": [
      "  \u001b[36mCell\u001b[39m\u001b[36m \u001b[39m\u001b[32mIn[183]\u001b[39m\u001b[32m, line 1\u001b[39m\n\u001b[31m    \u001b[39m\u001b[31mgrades.reshape(:1,)\u001b[39m\n                   ^\n\u001b[31mSyntaxError\u001b[39m\u001b[31m:\u001b[39m invalid syntax\n"
     ]
    }
   ],
   "source": [
    "grades.reshape(1)"
   ]
  },
  {
   "cell_type": "code",
   "execution_count": 184,
   "id": "baad8014-030f-435d-b9fd-a048c3d8b953",
   "metadata": {},
   "outputs": [
    {
     "data": {
      "text/plain": [
       "array([90, 94, 87, 61, 61, 60, 87, 80, 80, 96, 65, 81])"
      ]
     },
     "execution_count": 184,
     "metadata": {},
     "output_type": "execute_result"
    }
   ],
   "source": [
    "grades.reshape(-1)"
   ]
  },
  {
   "cell_type": "code",
   "execution_count": 185,
   "id": "a5d26cae-913b-4ff3-8796-1c9104505be1",
   "metadata": {},
   "outputs": [
    {
     "data": {
      "text/plain": [
       "array([[90, 94, 87, 61],\n",
       "       [61, 60, 87, 80],\n",
       "       [80, 96, 65, 81]])"
      ]
     },
     "execution_count": 185,
     "metadata": {},
     "output_type": "execute_result"
    }
   ],
   "source": [
    "grades"
   ]
  },
  {
   "cell_type": "code",
   "execution_count": 187,
   "id": "ffd00b24-5ff7-4317-9f1e-8545f47917d7",
   "metadata": {},
   "outputs": [],
   "source": [
    "\n",
    "flattened = grades.flatten()"
   ]
  },
  {
   "cell_type": "code",
   "execution_count": 188,
   "id": "4a11b0ef-33cd-4936-83c6-123828dd40d3",
   "metadata": {},
   "outputs": [
    {
     "data": {
      "text/plain": [
       "array([90, 94, 87, 61, 61, 60, 87, 80, 80, 96, 65, 81])"
      ]
     },
     "execution_count": 188,
     "metadata": {},
     "output_type": "execute_result"
    }
   ],
   "source": [
    "flattened"
   ]
  },
  {
   "cell_type": "code",
   "execution_count": 189,
   "id": "33aa63ca-6699-4fbd-b241-8a217b2a3a96",
   "metadata": {},
   "outputs": [
    {
     "data": {
      "text/plain": [
       "array([[90, 94, 87, 61],\n",
       "       [61, 60, 87, 80],\n",
       "       [80, 96, 65, 81]])"
      ]
     },
     "execution_count": 189,
     "metadata": {},
     "output_type": "execute_result"
    }
   ],
   "source": [
    "grades"
   ]
  },
  {
   "cell_type": "code",
   "execution_count": 191,
   "id": "21fc9308-0ce6-4d6a-ae63-dc78fb0f4a10",
   "metadata": {},
   "outputs": [],
   "source": [
    "\n",
    "flattened[0] = 100"
   ]
  },
  {
   "cell_type": "code",
   "execution_count": 192,
   "id": "09c41376-cfbf-455f-b23a-6263861b64a0",
   "metadata": {},
   "outputs": [
    {
     "data": {
      "text/plain": [
       "array([100,  94,  87,  61,  61,  60,  87,  80,  80,  96,  65,  81])"
      ]
     },
     "execution_count": 192,
     "metadata": {},
     "output_type": "execute_result"
    }
   ],
   "source": [
    "flattened"
   ]
  },
  {
   "cell_type": "code",
   "execution_count": 193,
   "id": "cd6e8285-1e16-43b6-bd40-e4760d9a9aef",
   "metadata": {},
   "outputs": [],
   "source": [
    "raveled = grades.ravel()"
   ]
  },
  {
   "cell_type": "code",
   "execution_count": 194,
   "id": "fd6197d3-7d90-4de0-a087-b6d165b3bc6a",
   "metadata": {},
   "outputs": [
    {
     "data": {
      "text/plain": [
       "array([[90, 94, 87, 61],\n",
       "       [61, 60, 87, 80],\n",
       "       [80, 96, 65, 81]])"
      ]
     },
     "execution_count": 194,
     "metadata": {},
     "output_type": "execute_result"
    }
   ],
   "source": [
    "grades"
   ]
  },
  {
   "cell_type": "code",
   "execution_count": 195,
   "id": "838cb49b-e4e2-4af6-840c-3db66d5c5b52",
   "metadata": {},
   "outputs": [
    {
     "data": {
      "text/plain": [
       "array([90, 94, 87, 61, 61, 60, 87, 80, 80, 96, 65, 81])"
      ]
     },
     "execution_count": 195,
     "metadata": {},
     "output_type": "execute_result"
    }
   ],
   "source": [
    "raveled"
   ]
  },
  {
   "cell_type": "code",
   "execution_count": 196,
   "id": "b86dc31d-cac0-4229-a06d-161200ccb6d8",
   "metadata": {},
   "outputs": [],
   "source": [
    "raveled[0] = 100"
   ]
  },
  {
   "cell_type": "code",
   "execution_count": 197,
   "id": "d355ea9b-7620-4b43-8dd6-4eb345f05845",
   "metadata": {},
   "outputs": [
    {
     "data": {
      "text/plain": [
       "array([100,  94,  87,  61,  61,  60,  87,  80,  80,  96,  65,  81])"
      ]
     },
     "execution_count": 197,
     "metadata": {},
     "output_type": "execute_result"
    }
   ],
   "source": [
    "raveled"
   ]
  },
  {
   "cell_type": "code",
   "execution_count": 198,
   "id": "f891e5cb-2ddb-4f75-9620-6cc0fd4c8cec",
   "metadata": {},
   "outputs": [
    {
     "data": {
      "text/plain": [
       "array([[100,  94,  87,  61],\n",
       "       [ 61,  60,  87,  80],\n",
       "       [ 80,  96,  65,  81]])"
      ]
     },
     "execution_count": 198,
     "metadata": {},
     "output_type": "execute_result"
    }
   ],
   "source": [
    "grades"
   ]
  },
  {
   "cell_type": "code",
   "execution_count": 199,
   "id": "29bdbbb1-4d06-4907-af08-2f4e0d980314",
   "metadata": {},
   "outputs": [
    {
     "data": {
      "text/plain": [
       "array([[100,  61,  80],\n",
       "       [ 94,  60,  96],\n",
       "       [ 87,  87,  65],\n",
       "       [ 61,  80,  81]])"
      ]
     },
     "execution_count": 199,
     "metadata": {},
     "output_type": "execute_result"
    }
   ],
   "source": [
    "grades.T"
   ]
  },
  {
   "cell_type": "code",
   "execution_count": 200,
   "id": "1de1fe51-b73d-4586-8595-f22ff01759d6",
   "metadata": {},
   "outputs": [
    {
     "data": {
      "text/plain": [
       "array([[100,  94,  87,  61],\n",
       "       [ 61,  60,  87,  80],\n",
       "       [ 80,  96,  65,  81]])"
      ]
     },
     "execution_count": 200,
     "metadata": {},
     "output_type": "execute_result"
    }
   ],
   "source": [
    "grades"
   ]
  },
  {
   "cell_type": "code",
   "execution_count": 201,
   "id": "65bee152-c763-43ce-8ba0-2111eef8b001",
   "metadata": {},
   "outputs": [
    {
     "ename": "NameError",
     "evalue": "name 'grades2' is not defined",
     "output_type": "error",
     "traceback": [
      "\u001b[31m---------------------------------------------------------------------------\u001b[39m",
      "\u001b[31mNameError\u001b[39m                                 Traceback (most recent call last)",
      "\u001b[36mCell\u001b[39m\u001b[36m \u001b[39m\u001b[32mIn[201]\u001b[39m\u001b[32m, line 1\u001b[39m\n\u001b[32m----> \u001b[39m\u001b[32m1\u001b[39m np.hstack(grades,\u001b[43mgrades2\u001b[49m)\n",
      "\u001b[31mNameError\u001b[39m: name 'grades2' is not defined"
     ]
    }
   ],
   "source": [
    "np.hstack(grades,grades2)"
   ]
  },
  {
   "cell_type": "code",
   "execution_count": 202,
   "id": "98d4d45a-fe23-435e-a31d-7efefe44545c",
   "metadata": {},
   "outputs": [
    {
     "ename": "NameError",
     "evalue": "name 'grades2' is not defined",
     "output_type": "error",
     "traceback": [
      "\u001b[31m---------------------------------------------------------------------------\u001b[39m",
      "\u001b[31mNameError\u001b[39m                                 Traceback (most recent call last)",
      "\u001b[36mCell\u001b[39m\u001b[36m \u001b[39m\u001b[32mIn[202]\u001b[39m\u001b[32m, line 1\u001b[39m\n\u001b[32m----> \u001b[39m\u001b[32m1\u001b[39m \u001b[43mgrades2\u001b[49m\n",
      "\u001b[31mNameError\u001b[39m: name 'grades2' is not defined"
     ]
    }
   ],
   "source": [
    "grades2"
   ]
  },
  {
   "cell_type": "code",
   "execution_count": 203,
   "id": "1096cb9f-c2f3-4b94-9601-95a07c1183da",
   "metadata": {},
   "outputs": [],
   "source": [
    "grades2 = np.array([\n",
    "    [88, 92, 75],\n",
    "    [81, 79, 95]\n",
    "])"
   ]
  },
  {
   "cell_type": "code",
   "execution_count": 204,
   "id": "fddf574a-eabb-4f37-8acd-365c7674c1c8",
   "metadata": {},
   "outputs": [
    {
     "data": {
      "text/plain": [
       "array([[88, 92, 75],\n",
       "       [81, 79, 95]])"
      ]
     },
     "execution_count": 204,
     "metadata": {},
     "output_type": "execute_result"
    }
   ],
   "source": [
    "grades2"
   ]
  },
  {
   "cell_type": "code",
   "execution_count": 205,
   "id": "f6141ae9-756f-4199-bc3e-5a751f25a61f",
   "metadata": {},
   "outputs": [
    {
     "ename": "TypeError",
     "evalue": "hstack() takes 1 positional argument but 2 were given",
     "output_type": "error",
     "traceback": [
      "\u001b[31m---------------------------------------------------------------------------\u001b[39m",
      "\u001b[31mTypeError\u001b[39m                                 Traceback (most recent call last)",
      "\u001b[36mCell\u001b[39m\u001b[36m \u001b[39m\u001b[32mIn[205]\u001b[39m\u001b[32m, line 1\u001b[39m\n\u001b[32m----> \u001b[39m\u001b[32m1\u001b[39m \u001b[43mnp\u001b[49m\u001b[43m.\u001b[49m\u001b[43mhstack\u001b[49m\u001b[43m(\u001b[49m\u001b[43mgrades\u001b[49m\u001b[43m,\u001b[49m\u001b[43mgrades2\u001b[49m\u001b[43m)\u001b[49m\n",
      "\u001b[31mTypeError\u001b[39m: hstack() takes 1 positional argument but 2 were given"
     ]
    }
   ],
   "source": [
    "np.hstack(grades,grades2)"
   ]
  },
  {
   "cell_type": "code",
   "execution_count": 206,
   "id": "44f0e73b-42a4-4a61-b648-f50a76226277",
   "metadata": {},
   "outputs": [
    {
     "ename": "ValueError",
     "evalue": "all the input array dimensions except for the concatenation axis must match exactly, but along dimension 0, the array at index 0 has size 3 and the array at index 1 has size 2",
     "output_type": "error",
     "traceback": [
      "\u001b[31m---------------------------------------------------------------------------\u001b[39m",
      "\u001b[31mValueError\u001b[39m                                Traceback (most recent call last)",
      "\u001b[36mCell\u001b[39m\u001b[36m \u001b[39m\u001b[32mIn[206]\u001b[39m\u001b[32m, line 1\u001b[39m\n\u001b[32m----> \u001b[39m\u001b[32m1\u001b[39m \u001b[43mnp\u001b[49m\u001b[43m.\u001b[49m\u001b[43mhstack\u001b[49m\u001b[43m(\u001b[49m\u001b[43m(\u001b[49m\u001b[43mgrades\u001b[49m\u001b[43m,\u001b[49m\u001b[43mgrades2\u001b[49m\u001b[43m)\u001b[49m\u001b[43m)\u001b[49m\n",
      "\u001b[36mFile \u001b[39m\u001b[32m/usr/lib/python3.13/site-packages/numpy/_core/shape_base.py:367\u001b[39m, in \u001b[36mhstack\u001b[39m\u001b[34m(tup, dtype, casting)\u001b[39m\n\u001b[32m    365\u001b[39m     \u001b[38;5;28;01mreturn\u001b[39;00m _nx.concatenate(arrs, \u001b[32m0\u001b[39m, dtype=dtype, casting=casting)\n\u001b[32m    366\u001b[39m \u001b[38;5;28;01melse\u001b[39;00m:\n\u001b[32m--> \u001b[39m\u001b[32m367\u001b[39m     \u001b[38;5;28;01mreturn\u001b[39;00m \u001b[43m_nx\u001b[49m\u001b[43m.\u001b[49m\u001b[43mconcatenate\u001b[49m\u001b[43m(\u001b[49m\u001b[43marrs\u001b[49m\u001b[43m,\u001b[49m\u001b[43m \u001b[49m\u001b[32;43m1\u001b[39;49m\u001b[43m,\u001b[49m\u001b[43m \u001b[49m\u001b[43mdtype\u001b[49m\u001b[43m=\u001b[49m\u001b[43mdtype\u001b[49m\u001b[43m,\u001b[49m\u001b[43m \u001b[49m\u001b[43mcasting\u001b[49m\u001b[43m=\u001b[49m\u001b[43mcasting\u001b[49m\u001b[43m)\u001b[49m\n",
      "\u001b[31mValueError\u001b[39m: all the input array dimensions except for the concatenation axis must match exactly, but along dimension 0, the array at index 0 has size 3 and the array at index 1 has size 2"
     ]
    }
   ],
   "source": [
    "np.hstack((grades,grades2))"
   ]
  },
  {
   "cell_type": "code",
   "execution_count": 207,
   "id": "27c668fd-2311-4532-8287-1365ced01935",
   "metadata": {},
   "outputs": [
    {
     "data": {
      "text/plain": [
       "array([[100,  94,  87,  61],\n",
       "       [ 61,  60,  87,  80],\n",
       "       [ 80,  96,  65,  81]])"
      ]
     },
     "execution_count": 207,
     "metadata": {},
     "output_type": "execute_result"
    }
   ],
   "source": [
    "grades"
   ]
  },
  {
   "cell_type": "code",
   "execution_count": 208,
   "id": "78d3e2d1-a2ad-4b94-8e95-377c14424b5b",
   "metadata": {},
   "outputs": [],
   "source": [
    "\n",
    "grades = np.array([\n",
    "    [90, 85, 78],\n",
    "    [88, 92, 81]\n",
    "])"
   ]
  },
  {
   "cell_type": "code",
   "execution_count": 209,
   "id": "c6ef5fe6-5410-4064-847e-48893be35cbe",
   "metadata": {},
   "outputs": [
    {
     "data": {
      "text/plain": [
       "array([[90, 85, 78],\n",
       "       [88, 92, 81]])"
      ]
     },
     "execution_count": 209,
     "metadata": {},
     "output_type": "execute_result"
    }
   ],
   "source": [
    "grades"
   ]
  },
  {
   "cell_type": "code",
   "execution_count": 210,
   "id": "0205e989-19d2-4246-9270-ba2200471e36",
   "metadata": {},
   "outputs": [
    {
     "data": {
      "text/plain": [
       "array([[90, 85, 78, 88, 92, 75],\n",
       "       [88, 92, 81, 81, 79, 95]])"
      ]
     },
     "execution_count": 210,
     "metadata": {},
     "output_type": "execute_result"
    }
   ],
   "source": [
    "np.hstack((grades,grades2))"
   ]
  },
  {
   "cell_type": "code",
   "execution_count": 211,
   "id": "b5cc4ab1-88f2-4bad-98fe-68e9c2e0d1ec",
   "metadata": {},
   "outputs": [
    {
     "data": {
      "text/plain": [
       "array([[90, 85, 78],\n",
       "       [88, 92, 81],\n",
       "       [88, 92, 75],\n",
       "       [81, 79, 95]])"
      ]
     },
     "execution_count": 211,
     "metadata": {},
     "output_type": "execute_result"
    }
   ],
   "source": [
    "np.vstack((grades,grades2))"
   ]
  },
  {
   "cell_type": "markdown",
   "id": "c357e956-2658-4ae9-ad64-a22675674e30",
   "metadata": {},
   "source": [
    "<><><><><><><><><><><><><><><><><><><><><><><><><>\n",
    "                   PANDAS\n",
    "<><><><><><><><><><><><><><><><><><><><><><><><><>"
   ]
  },
  {
   "cell_type": "code",
   "execution_count": 212,
   "id": "b4f5066f-ff35-4542-95a8-77a0630b0754",
   "metadata": {},
   "outputs": [],
   "source": [
    "import pandas as pd"
   ]
  },
  {
   "cell_type": "code",
   "execution_count": null,
   "id": "b1294e4b-75b3-4b0d-befc-3b7a0d2f5915",
   "metadata": {},
   "outputs": [],
   "source": []
  }
 ],
 "metadata": {
  "kernelspec": {
   "display_name": "Python 3 (ipykernel)",
   "language": "python",
   "name": "python3"
  },
  "language_info": {
   "codemirror_mode": {
    "name": "ipython",
    "version": 3
   },
   "file_extension": ".py",
   "mimetype": "text/x-python",
   "name": "python",
   "nbconvert_exporter": "python",
   "pygments_lexer": "ipython3",
   "version": "3.13.7"
  }
 },
 "nbformat": 4,
 "nbformat_minor": 5
}
